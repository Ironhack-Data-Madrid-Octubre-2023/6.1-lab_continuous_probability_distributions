{
 "cells": [
  {
   "cell_type": "markdown",
   "metadata": {
    "toc": true
   },
   "source": [
    "<h1>Table of Contents<span class=\"tocSkip\"></span></h1>\n",
    "<div class=\"toc\"><ul class=\"toc-item\"><li><span><a href=\"#Before-your-start:\" data-toc-modified-id=\"Before-your-start:-1\"><span class=\"toc-item-num\">1&nbsp;&nbsp;</span>Before your start:</a></span><ul class=\"toc-item\"><li><span><a href=\"#Uniform-Distribution\" data-toc-modified-id=\"Uniform-Distribution-1.1\"><span class=\"toc-item-num\">1.1&nbsp;&nbsp;</span>Uniform Distribution</a></span></li><li><span><a href=\"#Normal-Distribution\" data-toc-modified-id=\"Normal-Distribution-1.2\"><span class=\"toc-item-num\">1.2&nbsp;&nbsp;</span>Normal Distribution</a></span></li><li><span><a href=\"#Normal-Distribution-of-Real-Data\" data-toc-modified-id=\"Normal-Distribution-of-Real-Data-1.3\"><span class=\"toc-item-num\">1.3&nbsp;&nbsp;</span>Normal Distribution of Real Data</a></span></li><li><span><a href=\"#Exponential-Distribution\" data-toc-modified-id=\"Exponential-Distribution-1.4\"><span class=\"toc-item-num\">1.4&nbsp;&nbsp;</span>Exponential Distribution</a></span></li><li><span><a href=\"#Exponential-Distribution-of-Real-Data\" data-toc-modified-id=\"Exponential-Distribution-of-Real-Data-1.5\"><span class=\"toc-item-num\">1.5&nbsp;&nbsp;</span>Exponential Distribution of Real Data</a></span></li></ul></li></ul></div>"
   ]
  },
  {
   "cell_type": "markdown",
   "metadata": {},
   "source": [
    "# Before your start:\n",
    "\n",
    "    Read the README.md file\n",
    "    Comment as much as you can and use the resources (README.md file)\n",
    "    Happy learning!"
   ]
  },
  {
   "cell_type": "markdown",
   "metadata": {},
   "source": [
    "In this exercise, we  will generate random numbers from the continuous disributions we learned in the lesson. There are two ways to generate random numbers:\n",
    "\n",
    "1. Using the numpy library \n",
    "1. using the Scipy library \n",
    "\n",
    "Use either or both of the lbraries in this exercise."
   ]
  },
  {
   "cell_type": "markdown",
   "metadata": {},
   "source": [
    "## Uniform Distribution\n",
    "\n",
    "To generate uniform random numbers between any two given values using scipy, we can either use the following code or the code that we have\n",
    "discussed in class:"
   ]
  },
  {
   "cell_type": "code",
   "execution_count": 23,
   "metadata": {},
   "outputs": [
    {
     "name": "stdout",
     "output_type": "stream",
     "text": [
      "[2.8003067  2.44523398 2.69131136 2.905296   2.61733816 2.39961762\n",
      " 2.2115017  2.73533563 2.06240384 2.05004185]\n"
     ]
    }
   ],
   "source": [
    "\n",
    "import numpy as np\n",
    "from scipy.stats import uniform\n",
    "x = uniform.rvs(size=10)\n",
    "a = 2\n",
    "b = 3\n",
    "randoms  = a + (b-a)*x\n",
    "print(randoms)"
   ]
  },
  {
   "cell_type": "markdown",
   "metadata": {},
   "source": [
    "**Your task:**\n",
    "\n",
    "1. Based on the code above, write a function that generates uniformly distributed random numbers. There are several requirements for your function:\n",
    "    * It should accept 3 parameters: \n",
    "        * `bottom` - the lower boundary of the generated numbers\n",
    "        * `ceiling` - the upper boundary of the generated numbers\n",
    "        * `count` - how many numbers to generate\n",
    "    * It should return an array of uniformly distributed random numbers\n",
    "\n",
    "1. Call your function with 2 sets of params below:\n",
    "    * bottom=10, ceiling=15, count=100\n",
    "    * bottom=10, ceiling=60, count=1,000\n",
    "\n",
    "1. Plot the uniform distributions generated above using histograms, where x axis is the value and y axis is the count. Let the histogram's number of bins be 10.\n",
    "\n",
    "Your output should look like below:\n",
    "\n",
    "![uniform distribution](ud.png)"
   ]
  },
  {
   "cell_type": "code",
   "execution_count": 2,
   "metadata": {},
   "outputs": [],
   "source": [
    "# your code here\n",
    "\n",
    "def generate_uniform(bottom,ceiling,count):\n",
    "    x = uniform.rvs(size=count)\n",
    "    a = bottom\n",
    "    b = ceiling\n",
    "    randoms  = a + (b-a)*x\n",
    "    return randoms\n",
    "    "
   ]
  },
  {
   "cell_type": "code",
   "execution_count": 7,
   "metadata": {},
   "outputs": [
    {
     "data": {
      "text/plain": [
       "<Axes: ylabel='Count'>"
      ]
     },
     "execution_count": 7,
     "metadata": {},
     "output_type": "execute_result"
    },
    {
     "data": {
      "image/png": "[encoded data removed]",
      "text/plain": [
       "<Figure size 640x480 with 1 Axes>"
      ]
     },
     "metadata": {},
     "output_type": "display_data"
    }
   ],
   "source": [
    "u1 = generate_uniform(10,15,100)\n",
    "u1\n",
    "\n",
    "# crear un histograma con seaborn\n",
    "\n",
    "import seaborn as sns\n",
    "\n",
    "sns.histplot(u1)"
   ]
  },
  {
   "cell_type": "code",
   "execution_count": 8,
   "metadata": {},
   "outputs": [
    {
     "data": {
      "text/plain": [
       "<Axes: ylabel='Count'>"
      ]
     },
     "execution_count": 8,
     "metadata": {},
     "output_type": "execute_result"
    },
    {
     "data": {
      "image/png": "[encoded data removed]",
      "text/plain": [
       "<Figure size 640x480 with 1 Axes>"
      ]
     },
     "metadata": {},
     "output_type": "display_data"
    }
   ],
   "source": [
    "u2 = generate_uniform(10,60,1000)\n",
    "u2\n",
    "\n",
    "sns.histplot(u2)"
   ]
  },
  {
   "cell_type": "markdown",
   "metadata": {},
   "source": [
    "How are the two distributions different?"
   ]
  },
  {
   "cell_type": "code",
   "execution_count": null,
   "metadata": {},
   "outputs": [],
   "source": [
    "# your answer below"
   ]
  },
  {
   "cell_type": "markdown",
   "metadata": {},
   "source": [
    "## Normal Distribution\n",
    "\n",
    "1. In the same way in the Uniform Distribution challenge, write a function that generates normally distributed random numbers.\n",
    "1. Generate 1,000 normally distributed numbers with the average of 10 and standard deviation of 1\n",
    "1. Generate 1,000 normally distributed numbers with the average of 10 and standard deviation of 50\n",
    "2. Plot the distributions of the data generated.\n",
    "\n",
    "Expected output:\n",
    "\n",
    "![normal distribution](nd.png)"
   ]
  },
  {
   "cell_type": "code",
   "execution_count": 12,
   "metadata": {},
   "outputs": [
    {
     "data": {
      "text/plain": [
       "(array([10.47896907, 11.23719274,  9.95827741, 11.16158045, 10.27139548,\n",
       "        10.63721181,  8.43550402, 10.19017184,  9.73136688, 10.40534327,\n",
       "        10.4348779 , 10.53512744,  9.98508997,  9.53932776, 11.74403769,\n",
       "        10.09829915,  9.979524  , 10.06278808, 10.21970618,  9.52548617,\n",
       "         9.42775109,  9.69172779,  8.58746404,  9.2627719 ,  8.87168191,\n",
       "        10.08502693, 10.49487038,  9.07559945,  9.65708577,  9.48278843,\n",
       "        11.41839175,  9.78348356,  9.15622058, 11.64921149, 10.69100503,\n",
       "        10.56811702,  9.5834211 , 10.18737358, 10.37519997, 11.08254805,\n",
       "         8.63353891,  9.66252711, 10.35266747,  9.90091989, 10.39365726,\n",
       "         9.89085607, 10.8769138 , 10.25855005,  8.76266225,  9.60707452,\n",
       "        10.51625158, 11.6047748 ,  9.00420208, 10.66107877,  9.4218494 ,\n",
       "        11.2514584 ,  9.24733965, 10.15274588,  9.76569516,  8.06755701,\n",
       "        10.61220781,  9.17387563,  8.24396096,  9.79416684,  8.90010881,\n",
       "         9.02544069,  9.17513492, 10.6911424 ,  9.7426727 ,  8.9313746 ,\n",
       "        12.187826  ,  9.03483547,  9.54738964,  8.89537176,  9.44352318,\n",
       "         8.14585563,  8.66784371, 10.20435507,  9.49793969, 10.96791678,\n",
       "        11.08823956,  8.03420003, 11.11228825,  9.81147623, 10.76738695,\n",
       "        10.56307522, 11.18066309, 10.40225358, 10.02316022, 11.69459572,\n",
       "         9.48949005,  8.28744248, 11.19584106, 10.99279336, 10.6056266 ,\n",
       "         9.69881275,  9.93410002, 11.75491894, 11.4099928 , 10.43490615,\n",
       "         9.58780542, 10.66604869,  9.16030416,  9.49628215, 10.97754383,\n",
       "        10.26703473,  8.33480676,  8.44901941,  8.33015775,  8.74389426,\n",
       "         9.45944941, 10.38387839, 10.44064932,  9.71850952, 10.03390896,\n",
       "        10.06870603,  8.2414741 , 10.17461797,  8.46413097, 10.22680652,\n",
       "        12.27868006, 10.21355618, 10.04977039, 10.40753491,  7.66308991,\n",
       "        10.48310627,  8.79371534,  7.84222175, 11.48358003,  9.68325239,\n",
       "         9.12199393,  9.29140055, 10.5076548 , 11.6566043 ,  8.98799892,\n",
       "        11.05950933,  9.77317383,  7.25416069,  9.31610319,  9.20399982,\n",
       "        11.39041464, 10.155571  , 10.91171807, 10.54623995, 10.44421377,\n",
       "        12.08055711, 11.12879563,  9.71593543, 10.09185696, 11.39330443,\n",
       "         9.10058486, 10.78123778, 10.1548228 , 10.16945923, 11.1885675 ,\n",
       "         9.49456532,  9.34525603,  9.26001134,  9.3647852 ,  9.18230608,\n",
       "         9.02965167,  8.09745647, 10.35354449, 10.36957391,  7.94147599,\n",
       "         7.9859108 ,  9.54391197,  9.01079212,  9.61677952,  9.20763341,\n",
       "         9.66036   ,  9.57985512,  9.01420816,  9.69875749, 11.26865829,\n",
       "        10.92210872, 10.00019727,  9.62183047,  9.52883119, 10.92025935,\n",
       "         8.11944384, 11.09216137, 11.33971879,  9.77607448,  9.0067089 ,\n",
       "         9.22558576, 10.44217556,  9.04475572,  9.06760885, 10.7059275 ,\n",
       "        10.01499993, 10.51773234,  8.16834843, 10.32060566, 11.44947728,\n",
       "        10.89191804,  9.46752452, 10.30356296,  9.42825739, 10.01738251,\n",
       "         9.75533124, 10.20802325, 10.94191081,  9.42784452,  8.6176511 ,\n",
       "        10.68623047,  9.67052424, 11.01004931, 10.37958124,  8.5814101 ,\n",
       "         9.06337828, 10.89376908,  9.41817894,  9.67903507, 11.32839445,\n",
       "        12.31847027, 11.60694635,  9.81495933, 10.75323736,  9.83522017,\n",
       "         9.48723223,  9.01150184,  9.3427144 ,  9.44904535, 10.39951802,\n",
       "        10.68838128,  9.99823015, 10.93836798, 10.54413413, 12.09784375,\n",
       "        11.78652986, 10.19587411, 11.3955824 ,  9.68299744, 10.59807966,\n",
       "        10.50540066, 10.67267339,  9.26772497,  8.55551351, 10.86272441,\n",
       "        11.16183785, 11.04278888,  8.47481802, 10.61674103, 12.7020626 ,\n",
       "         8.83381266, 10.01675099,  9.53542062, 10.99949847, 10.60725351,\n",
       "         9.83535174,  9.88041332, 10.9168825 , 10.32206124, 10.52922748,\n",
       "         9.20920906, 10.58181004,  9.04958889,  8.25243251, 12.47579407,\n",
       "        10.09812529, 11.86799804, 10.06309213,  8.24764805,  9.35028405,\n",
       "        10.45834687,  9.84988957,  8.76861178,  9.31448165, 11.0079796 ,\n",
       "        11.03694717, 10.64215401,  9.41934588, 10.32207118, 11.50821784,\n",
       "        11.11471511,  9.92761745,  9.16864886,  9.80399949, 10.45369899,\n",
       "         9.01217736,  8.43371603,  9.59408192,  9.87194322, 10.31297533,\n",
       "        10.25425729, 11.12292438, 11.2893356 , 10.47744126,  9.75857717,\n",
       "         9.92746655,  9.88777735, 10.86254441,  7.49540408,  9.7982712 ,\n",
       "         8.57263309,  9.50319032,  9.85826855, 11.64870901,  8.58430748,\n",
       "        10.40440906,  9.95601076,  9.2429972 , 10.42976203, 11.07579311,\n",
       "        10.788988  ,  9.40287417,  9.82011187,  8.68054256,  9.25478762,\n",
       "        10.60001592,  9.92953818, 10.65556173,  9.34781642, 10.41658783,\n",
       "         9.49861192,  9.38858487, 10.62125346, 10.21166324,  9.76048391,\n",
       "        12.0279473 ,  9.85479764,  9.61775564,  9.37187366,  9.99495727,\n",
       "         8.68462916,  9.7570888 ,  9.60015837, 10.56645909, 10.09379793,\n",
       "        10.36501854,  9.60078848,  9.76804001, 11.12013941,  9.95675424,\n",
       "        10.35438255, 10.1426975 , 10.67533628,  9.47711283, 10.25564979,\n",
       "        10.02312437, 12.31464584,  9.78756547, 10.95550597,  9.03898637,\n",
       "         8.6274828 , 10.82414587,  9.65531812,  9.51850623,  9.3604639 ,\n",
       "         9.97881573,  8.9982569 ,  7.7379463 ,  9.98392989,  8.55645382,\n",
       "         8.56486843,  9.32635934,  9.35588473, 10.1012088 , 11.98370296,\n",
       "         9.31979182,  8.82137769,  9.77466555, 11.40565499, 11.75183143,\n",
       "         9.35530848,  8.2595201 , 13.40916258,  9.24235915,  8.8580876 ,\n",
       "         9.84013763,  9.56820138, 10.54120014,  9.44710574, 11.4089478 ,\n",
       "        10.31692408, 11.31111764,  8.22174707, 10.08988057, 10.11932124,\n",
       "        10.09562367, 10.40645724, 11.05565686, 10.67477123, 12.33862637,\n",
       "        10.05037971, 10.32062821,  9.30907215, 11.61840924,  9.59926211,\n",
       "        10.54691564,  8.80495474,  9.30833013, 10.41718109,  8.98735143,\n",
       "        11.00142259,  8.4920451 ,  8.74039364,  8.43088682,  9.13138532,\n",
       "        10.72972577, 10.5699929 ,  9.64358561,  9.79034246, 10.38318295,\n",
       "         9.6254174 , 11.95013936,  9.031221  ,  8.9723251 ,  9.96845879,\n",
       "         9.63530419, 10.10780504,  8.34661987, 11.42503281,  9.80290061,\n",
       "        10.29001916, 10.47179702,  7.09816189, 10.34036485,  9.50939772,\n",
       "         8.34476651, 10.14123902, 10.55125705,  9.72343264, 10.1366713 ,\n",
       "        10.82361442, 10.18705914,  9.80937428, 12.1905372 , 10.59018976,\n",
       "        10.62749716,  8.91518297,  9.37796001, 10.29766407,  9.29983425,\n",
       "        10.66072542,  9.75806014,  9.30879566,  9.81952992,  9.80330483,\n",
       "        11.27291545, 10.5500969 , 10.53636741, 10.11617032,  9.19292729,\n",
       "        10.78977045, 10.3547349 , 11.188342  , 11.08451044, 10.08631883,\n",
       "         9.05602099, 10.36889459, 11.70732819,  9.90177424, 11.74662096,\n",
       "         8.68452502,  8.19260789,  8.80756631,  9.07760505, 10.53491432,\n",
       "        10.13935185,  8.31308998, 10.48234387,  8.8970401 , 10.93689253,\n",
       "         9.65225895, 10.19377181, 10.45038725,  9.44762499, 11.17531973,\n",
       "        10.00936566,  8.85802869,  8.96368784, 11.50630129, 11.90429835,\n",
       "         8.84361578,  9.17181253,  8.3043572 ,  9.76375926,  9.37649003,\n",
       "         8.96900311, 11.04591942,  8.62498928, 10.45873238, 10.54028484,\n",
       "        11.23832726,  8.65025415,  9.49080935, 11.19183748,  9.03767435,\n",
       "         9.15122105,  9.50765427,  8.97287286,  8.55359167, 11.16728729,\n",
       "         7.34708163,  9.75932566, 11.45232997,  8.13896476,  8.31941181,\n",
       "         9.71216079, 11.17221858, 12.10023696,  9.01429134, 10.65506629,\n",
       "        11.58371142, 10.23885074, 11.0422836 , 11.37344779,  9.01350696,\n",
       "        10.32624623,  8.82270483, 10.47961048,  9.01595596, 11.52563001,\n",
       "         7.92341219, 10.87331222, 10.210621  , 11.48866057, 10.83891252,\n",
       "        10.82471498, 10.00432216, 10.25568371,  9.76111014,  9.69319829,\n",
       "        13.8803767 , 10.6779745 ,  8.24593819, 10.90049592,  8.4595907 ,\n",
       "         9.54589503, 10.84090761, 10.4077202 , 11.24830714, 11.01247983,\n",
       "        10.25835192, 10.57481975, 10.01991305,  9.55878319,  9.61614463,\n",
       "        11.76973993, 10.48043667,  9.67362889, 10.3495442 ,  9.81954538,\n",
       "        10.2414365 ,  9.89552545, 10.46783176, 10.95670236, 10.09186397,\n",
       "        10.02395647,  9.37324384, 10.05984284,  9.29653615, 10.53072602,\n",
       "         8.90065186,  9.61604392,  9.76130838, 10.44145378,  9.33540273,\n",
       "        11.03974968, 11.71357971, 11.22961293,  9.88757268,  8.93856934,\n",
       "         9.2526363 , 11.15323404,  9.01482498, 10.49381281, 10.98185524,\n",
       "         8.75221434,  9.99049813,  9.03157626, 10.05553039, 10.43428   ,\n",
       "        11.98398725, 10.10382694, 10.76319714,  9.31677957, 10.22748441,\n",
       "         9.60865857, 10.03207669, 12.26314824, 10.05254224, 10.23906526,\n",
       "         9.40915798,  9.06257622, 10.37974161,  9.63570869,  9.63315728,\n",
       "         8.96264089,  9.53207555, 11.08656744,  8.68027124,  8.61254647,\n",
       "        11.48506524,  9.60621363,  9.2843568 ,  9.92173034,  9.69154602,\n",
       "         9.52169171,  9.46173529, 10.16857748,  9.91721391,  9.30846794,\n",
       "         9.32317738, 10.40663457, 11.43118615, 11.02975756, 10.65757093,\n",
       "        11.36187513, 10.03110507, 11.09026773,  9.36093377, 10.29393253,\n",
       "        11.28003734, 10.50217543, 10.70392832,  8.75933893, 11.46845494,\n",
       "         8.91298949,  9.29064244, 10.53403708, 11.29341747,  8.18499512,\n",
       "         8.75793157, 10.65240773,  9.23157748, 10.11586281, 11.5905325 ,\n",
       "         9.97716113, 11.63816931,  8.36714852,  9.45208276, 11.69290516,\n",
       "        12.57917238,  8.85410912, 11.32151177,  9.5845772 , 10.39159871,\n",
       "         7.63884216,  8.32599772, 10.80179194, 10.84951081,  9.32003274,\n",
       "         8.87049396,  9.7099893 , 10.88989418, 10.10888217, 10.25968386,\n",
       "        10.46019379, 10.43096136, 10.44556176,  9.40897619,  9.42674128,\n",
       "         9.77833753,  8.35097734,  7.59313534, 10.25484304, 10.01553948,\n",
       "         9.82641428, 10.2188846 , 10.22927824, 10.02104596, 10.10012511,\n",
       "         8.33052842,  9.47558301, 10.49486597,  8.83097539, 12.27763691,\n",
       "         8.97240537,  9.53781463,  9.85431842,  8.91019058, 10.24146143,\n",
       "         9.33007407, 12.54673236, 10.53450721,  9.54640521,  8.98451322,\n",
       "        11.88054408, 11.24011052, 10.16337107, 10.45720322, 12.18964268,\n",
       "        10.46643618,  8.54946168,  8.22488613, 10.06812904,  9.86431582,\n",
       "        10.91815462,  9.79568125,  8.56362307,  7.45610725,  9.93315419,\n",
       "         9.42451407, 10.21507437,  8.79007227,  9.34192576, 10.0246856 ,\n",
       "         9.28070408,  9.61971709, 10.89642389, 10.53730029, 11.29909733,\n",
       "         9.97753674,  8.01532647, 12.40170391, 11.83373318,  9.52488655,\n",
       "        10.55687484, 10.87802322,  9.59700093,  9.43844861, 10.40922917,\n",
       "         8.69817555, 11.12287117, 10.022627  ,  9.31432201, 11.1871358 ,\n",
       "        10.02188328, 10.26381989,  8.448211  ,  9.81894546,  9.9840253 ,\n",
       "        10.53278502,  9.12404264,  8.67636288, 10.44063733, 10.08196812,\n",
       "         7.05366486, 10.85826873,  8.83109412,  9.89895404, 10.19231802,\n",
       "         8.14007822, 11.26548353, 10.19956247, 10.63506498, 10.00217076,\n",
       "         8.92792103, 10.63456315, 10.87533815, 10.07471718,  9.76193478,\n",
       "        10.74852463,  9.8284503 ,  8.86618958,  9.1310315 ,  9.38149147,\n",
       "         9.23652051,  9.59117292, 11.36722366,  9.70288162, 10.30672863,\n",
       "         9.31810239, 10.49671755, 11.14093926,  9.58165596, 11.10915011,\n",
       "        10.7031329 ,  8.7321619 , 11.61761462, 10.79112449, 10.13132168,\n",
       "        10.88686629,  9.1079577 ,  9.93995806, 11.76607198, 11.32607244,\n",
       "        10.14035076,  9.05517173, 12.52553996, 10.0785092 , 10.05656509,\n",
       "         8.38229531,  8.92854015, 11.51804721, 10.1644985 , 11.38620015,\n",
       "         9.1240053 , 11.02671134, 10.80565815,  9.0856731 ,  9.57913481,\n",
       "        12.08694975, 11.81861234, 10.93791894, 10.31943536, 10.03418909,\n",
       "         8.62611352,  9.38696331,  9.14261561,  9.34019803,  7.56778331,\n",
       "         8.78170385,  9.23853777, 10.7737011 ,  9.33582432,  8.76999562,\n",
       "        10.80656084,  9.9408475 , 10.40955646, 11.88342571,  9.0218823 ,\n",
       "         9.94718177,  9.74608644,  9.7808955 , 10.27230385, 10.41043958,\n",
       "        10.59658398, 10.65935937,  9.74516578, 11.11467462, 10.20465524,\n",
       "        12.44610029, 10.91836762,  8.66787686,  9.78062013, 11.01138739,\n",
       "        10.52336456,  9.05996638,  9.95986111, 10.7573803 ,  9.27039838,\n",
       "        10.69091418,  7.50295907, 11.23728902, 10.58672661, 10.11390855,\n",
       "         7.42605591, 10.23575129,  9.97066277,  8.52912491,  8.18159177,\n",
       "        10.33555214, 11.22329365,  9.47647372, 11.12164141,  9.84170299,\n",
       "         8.91951404, 11.73207633, 10.37155462, 11.19385139, 11.96769675,\n",
       "         8.31174252,  7.94383863,  8.13622696,  9.9371001 , 10.21227103,\n",
       "         9.34447476, 10.23286954, 10.98212214,  9.56291462,  9.86159835,\n",
       "         9.02338998,  8.11555524,  9.66467534,  9.71701519,  9.17563759,\n",
       "        11.3007374 , 11.16157114, 12.4746363 ,  8.26125424,  8.68649343,\n",
       "        10.17276028, 11.12158918, 10.06121565, 10.08403533, 10.47166767,\n",
       "        10.73013244,  7.97393088,  9.2174383 , 11.53160743,  9.20177034,\n",
       "        10.13715792, 10.21195399, 10.45179077,  8.34229215,  9.28590411,\n",
       "         8.88369346, 11.56206839, 10.31201068, 11.35129921, 10.2706247 ,\n",
       "        11.44764494, 10.97193965, 11.08454568,  9.95533695, 11.22101796,\n",
       "        10.05208016, 10.16162474, 11.35458113,  8.75615447, 10.68737758,\n",
       "         8.43975075, 10.40986988, 11.71740629, 10.65922619, 10.89188661,\n",
       "        10.00053838, 10.08277756, 10.37423741, 10.59008845,  9.38336536,\n",
       "        11.95537615,  9.19009714, 11.53155736, 10.71551121, 10.85792994,\n",
       "         9.0519189 ,  9.03013918, 10.13799277, 10.19098609,  8.29472154,\n",
       "        10.19636044, 10.9508598 ,  9.10526482,  9.37957151, 10.41347174,\n",
       "        10.68884032,  8.30644365,  9.99915725,  9.27436709,  7.99873284,\n",
       "         9.98832806, 10.1231943 ,  9.45125713,  9.10522744,  9.28182494,\n",
       "         9.57493892,  7.5885646 ,  9.31949124, 10.77279121,  9.91938985,\n",
       "         9.24937355,  8.93292843, 11.25796966, 10.32883189, 10.59201982,\n",
       "         9.72213456,  9.91901883, 10.68960975,  9.65779485, 10.77074604,\n",
       "        10.59932589, 10.17468016, 10.49430855, 10.67858177,  8.13946065,\n",
       "         9.10019106,  9.6516067 ,  7.58051466, 10.38980091, 10.11317703,\n",
       "        10.09618047, 10.22910642,  9.20130969, 10.67531002,  9.48155337,\n",
       "        10.06203864,  8.73194821,  9.93041445,  9.19009698, 10.50428285,\n",
       "         9.02212644, 10.26212199, 11.61055177,  9.07043943,  9.26920099,\n",
       "        10.67228086,  8.97073728, 11.02404401,  9.42304888, 10.2372552 ,\n",
       "         9.85213697,  7.88790747,  9.4542357 , 10.86098505, 10.33200602,\n",
       "         8.60534261,  8.3820271 ,  8.92915416, 10.38496687,  8.56439809,\n",
       "         8.77201871,  9.86407885, 10.2336718 , 10.2082132 , 10.14572241,\n",
       "        11.76842992,  9.143051  ,  9.84920956, 10.08099383, 12.02907897,\n",
       "        10.1722937 , 10.39492589, 10.03555438, 10.94700966, 11.75117684]),\n",
       " array([-3.05084438e+01,  5.17522432e+00, -9.91756042e+01, -6.95456692e+01,\n",
       "         1.98196297e+01, -4.59985870e+01,  5.90943025e+01, -1.03721642e+01,\n",
       "         1.02990394e+01, -5.30493880e-01,  4.07167179e+01,  6.73981254e+01,\n",
       "         5.14221072e+01,  7.63820679e+01,  1.98533215e+01,  2.04004000e+01,\n",
       "         3.59569413e-01,  1.01059531e+01, -3.49420075e+01,  1.06145256e+01,\n",
       "        -2.52327843e+01,  5.98472333e+00,  2.58507535e+01,  1.20616946e+01,\n",
       "        -4.73569484e+01, -6.81501080e+01,  6.36323474e+00,  1.45424787e+01,\n",
       "        -5.63013097e+01, -7.65681629e+01, -4.16223175e+01,  8.32825486e+01,\n",
       "        -1.17982254e+02,  8.39965442e+01, -6.42219221e+01, -5.08692780e+01,\n",
       "        -2.74674520e+00, -4.80293325e+01,  3.55950115e+01,  8.93953785e+01,\n",
       "         8.22055043e+01, -4.49496961e+01,  2.57310228e+01,  1.16165157e+01,\n",
       "         8.85060911e+01, -2.46383835e+01, -2.24468176e+01,  3.87961924e+00,\n",
       "         6.05485379e+00, -5.69393056e+01,  5.98954089e+01, -2.51951613e+00,\n",
       "         2.47308761e+01,  6.31789824e+01,  5.24341929e+01, -1.13144146e+01,\n",
       "        -2.90161313e+01, -4.21360341e+01,  9.37563083e+01,  3.51396296e+01,\n",
       "         1.13543119e+01,  2.12842558e+01,  7.44084313e+01, -1.95072323e+01,\n",
       "        -6.88242791e+01,  2.22988313e+01,  1.55097354e+01, -7.46898561e+01,\n",
       "        -3.80040088e+01,  5.32464212e+00,  1.10293898e+01,  5.13438251e+01,\n",
       "         7.65979687e+01,  2.84556289e+01, -5.42369653e+01, -1.02585991e+01,\n",
       "        -1.31809618e+02,  3.30824560e+01, -7.86057462e+01, -1.04040339e+01,\n",
       "        -1.51850249e+01,  7.61436098e+01, -6.65496433e+01, -5.61494175e+01,\n",
       "        -7.47153657e+00,  5.82592777e+01,  1.05464253e+01,  2.75293546e+01,\n",
       "         9.75935928e+01, -5.09319034e+01, -3.65893833e+01, -3.10000126e+01,\n",
       "        -8.50756827e+00,  2.24283733e+01, -1.36984613e+01, -3.52782698e+01,\n",
       "         4.45474198e+01,  6.56319021e+01,  9.38464570e+01, -1.91893508e+01,\n",
       "        -1.20493189e+01,  3.09738640e+01, -2.68995593e+01, -2.42406089e+01,\n",
       "        -4.81434815e+01,  5.42264386e+01,  2.57854649e+01,  3.64672435e+01,\n",
       "         2.39920401e+01,  1.84922475e+01,  4.85474063e+00, -1.98520740e+01,\n",
       "         7.52190201e-01, -9.70871533e+00, -5.36149455e+01,  9.48670109e+01,\n",
       "         5.14914975e-01,  1.40454945e+01, -4.18850241e+01,  4.27314386e+01,\n",
       "         1.29775165e+02,  2.21275415e+01, -3.45789705e+01,  5.36516548e+00,\n",
       "        -2.78226292e+01, -2.45993104e+01,  1.20731979e+01,  3.35994006e+00,\n",
       "         3.44984340e+01,  6.44099562e+01, -5.40068563e+01, -6.99467748e+01,\n",
       "        -2.05208758e+01,  4.71150200e+01, -5.07345673e+01, -6.06869673e+01,\n",
       "        -1.26711971e+00,  8.30166828e+01,  4.95786315e+01,  7.10850854e+01,\n",
       "        -6.02770566e+01, -3.91719801e+01, -2.12795441e+01,  3.00150864e+01,\n",
       "         5.27167533e+01,  2.27854117e+00,  2.07059169e+01, -2.38811247e+01,\n",
       "        -5.96903137e+01, -5.49744486e+01, -1.66198772e+02,  5.67660014e+01,\n",
       "         1.26515670e+02,  2.11416365e+01,  1.99860668e+01,  3.43923325e+01,\n",
       "         1.59020640e+01,  6.35992908e+01,  4.22137962e-01,  6.64022342e+01,\n",
       "        -1.96527426e+01,  4.17740094e+01,  1.73435628e+01,  3.61561138e+01,\n",
       "         8.99622779e+01,  3.42838174e+01, -1.97496447e+01,  2.58793365e+01,\n",
       "        -8.22122733e+00,  5.81445191e+01, -7.98485032e+01, -4.59835710e+01,\n",
       "         7.35236003e+01, -1.27829052e+01,  7.40025157e+00,  7.63234400e+01,\n",
       "        -4.13136261e+01, -6.51344735e+01,  7.88162091e+01,  2.79808721e+01,\n",
       "         8.28085593e+01, -1.39422214e+01, -2.90903477e+01, -5.08753727e+00,\n",
       "        -1.70093791e+01,  1.10800901e+02,  3.37653985e+00,  4.35875473e+01,\n",
       "        -8.90830016e+00, -6.65057108e+01, -3.14636189e+01,  6.77366735e+01,\n",
       "         4.19930244e+00, -2.20776662e+01,  2.61211317e+01, -1.39555493e+01,\n",
       "         1.02331076e+01,  7.63570797e+00,  6.72138216e+01,  8.35585515e+01,\n",
       "         6.99443259e+01,  5.23868310e+01,  5.48557521e+01, -2.86411709e+01,\n",
       "         3.64441815e+01,  2.22424370e+01,  5.39844645e+01,  1.08284677e+02,\n",
       "        -1.19253358e+02, -5.78042571e+01, -5.05804231e+01, -3.52324968e+01,\n",
       "         5.48268064e+01, -5.68551506e+01,  7.72600620e+01,  1.32832484e+01,\n",
       "        -2.64298912e+01,  1.14472730e+01, -1.04303167e+02,  6.11141348e+01,\n",
       "        -1.53306521e+00,  1.38274442e+01,  3.08045208e+01,  3.87982219e+01,\n",
       "        -4.15863929e+01,  4.75971742e+01, -4.24458268e+00, -1.01962925e+02,\n",
       "         4.19639339e+00,  4.07672140e+01,  9.27766627e+00, -9.97315838e+01,\n",
       "        -1.58968782e+01, -5.75702758e+01,  1.33605579e+01, -2.75685546e+00,\n",
       "        -4.28970963e+01,  2.61576094e+01, -2.93203447e+01,  7.01095910e+01,\n",
       "         2.77106975e+01,  2.39641699e+01, -6.68835279e+01,  5.43665305e+01,\n",
       "        -2.79244176e+01, -3.39593342e+01,  2.79000973e+01,  1.99955981e+00,\n",
       "         4.88908039e+01,  3.23002506e+01,  1.03904207e+02, -9.83555460e+00,\n",
       "        -1.09457268e+01,  5.87704221e+01,  4.65442161e+00, -3.80013846e+01,\n",
       "         1.99165820e+01, -5.07067093e+01, -2.86043264e+01,  3.43514079e+01,\n",
       "        -9.79676998e+00, -6.73448977e+00, -5.22555020e+01, -2.45573444e+01,\n",
       "        -6.29761940e+01,  1.96237296e+01,  4.49542593e+00,  5.36704391e+01,\n",
       "         3.60826818e+01, -4.74408289e+01,  1.55169671e+01, -1.51454081e+01,\n",
       "         6.20953739e+01,  5.87271798e+01, -2.48392525e+01,  1.63612210e+01,\n",
       "        -6.57597167e+01,  1.17050044e+02, -9.12290180e+01,  8.22252802e+01,\n",
       "         5.89037692e+01,  5.47136156e+01, -7.45148293e+01, -1.30463829e+01,\n",
       "        -2.97758772e+00,  2.24802865e+01,  8.09595681e+01,  2.42050823e+01,\n",
       "         7.43663492e+01,  6.20999353e+01,  1.08817121e+01, -7.98745258e+01,\n",
       "         2.53510226e+01,  6.38512402e+00, -8.58465965e+00,  1.58598792e+01,\n",
       "        -4.42850297e+01,  2.67479132e+01,  5.08476559e+01, -2.84782543e+01,\n",
       "        -2.32256167e+01, -1.88822775e+01, -1.93132193e+00, -2.44181736e+01,\n",
       "         3.47137848e+01, -3.33718832e+01,  9.79670751e+00, -2.61839124e+01,\n",
       "        -5.18120469e+00,  2.55348529e+00,  2.22046154e+01, -1.75085601e+01,\n",
       "         5.49101184e+01,  5.71842846e+01, -6.32750694e+00, -4.42064902e+01,\n",
       "        -2.46383255e+01,  3.62538580e+01,  1.23162036e+01,  7.59243412e+01,\n",
       "        -7.57441852e+00,  3.84468762e+01,  2.03157474e+01, -3.37561599e+01,\n",
       "         5.86399957e+01,  9.83687724e+01, -5.74191043e+01,  9.15564443e-01,\n",
       "         9.01917941e+01,  6.82305693e+01,  1.61676350e+01, -3.61283498e+01,\n",
       "        -7.21217306e+01,  2.82842666e+01, -2.73888043e+01, -3.33045439e+01,\n",
       "         5.33889145e+01,  6.85772430e+01,  4.41149332e+00,  2.01855423e+01,\n",
       "        -3.13875037e+01,  2.82738444e+00, -6.35269184e+00,  2.67684736e+01,\n",
       "         4.65643783e+01,  6.21129205e+01, -5.51537222e+01,  3.45569946e+01,\n",
       "         5.97222166e+01,  7.51725554e+01,  9.57911177e+01, -2.39044062e+01,\n",
       "         5.59113066e+01, -3.78737449e+01,  1.08489887e+02, -3.51220969e+01,\n",
       "        -2.83377466e+01,  8.55831019e+01, -2.32049120e+01,  3.15147935e+01,\n",
       "        -3.10539524e+00,  3.73744666e+01, -3.67482079e+01,  1.57975999e+01,\n",
       "         2.85448596e+01,  9.22218633e+01,  1.66655967e+01,  6.14388233e+01,\n",
       "         7.81113282e+01,  6.08082162e+00,  3.47459819e+01,  1.34631258e+01,\n",
       "         3.77841888e+00,  5.84584530e+01,  1.07763988e+02, -4.49959022e+01,\n",
       "         1.13994282e+02, -2.33436491e+01,  1.04371606e+01,  3.48453635e+01,\n",
       "         1.64590108e+01,  8.19439353e+01, -5.46406267e+01,  2.18885757e+01,\n",
       "         1.96475726e+01, -1.93248416e+00, -5.88970948e-01,  3.33127954e+01,\n",
       "        -5.34653224e+01,  1.45270754e+01,  1.78746970e+01,  2.28619370e+01,\n",
       "         3.56732360e+01, -1.55260848e+01,  1.93708717e+01, -9.56931998e+01,\n",
       "        -1.53155630e+00,  1.16579583e+01,  5.26018524e+01, -1.36140921e+01,\n",
       "        -7.65775615e+01,  1.08266145e+02,  5.90181149e+01, -6.32535534e+01,\n",
       "         6.52326828e+01,  1.44770376e+01, -2.00954699e+01, -1.13272959e+01,\n",
       "         2.32387492e+01,  1.17432244e+02,  7.14097767e+01,  4.29343956e+01,\n",
       "        -1.51527754e+01, -8.31398186e+01, -1.54311611e+01, -2.96988108e+01,\n",
       "         2.26020535e+00, -3.28141575e+01,  5.99429921e+01, -7.04207879e+01,\n",
       "        -6.49647651e+01,  1.92065166e+01, -6.64003397e+01,  1.99961260e+01,\n",
       "        -5.41394421e+01, -2.66817684e+01,  8.43951328e+01,  8.27857431e+01,\n",
       "         5.36696360e+01, -6.48467353e+01, -4.60318913e+01,  7.43494404e+01,\n",
       "         5.27083707e+01, -2.28957433e+01, -4.51487171e+01,  1.19263776e+02,\n",
       "        -2.69434905e+01, -7.95187117e+00, -7.59741911e+00, -5.83280235e+01,\n",
       "        -4.45283243e+01,  5.02398317e+01,  3.74335301e+01,  9.72581653e+00,\n",
       "         1.40895161e+01, -3.69120863e+01, -2.83552569e-01, -5.81961525e+01,\n",
       "        -1.92518300e+01,  6.74376144e+01,  4.06481186e+01, -3.78536087e+01,\n",
       "         3.96228264e+01,  5.51737004e+01,  8.04105589e+01,  5.86390075e+00,\n",
       "         9.27212379e+00,  5.68174333e+01, -9.73562918e+01,  7.58949581e+01,\n",
       "        -2.75491753e+01,  3.73088492e+01, -1.94235841e+01,  2.99688641e+01,\n",
       "         6.94477066e+01,  7.80422302e+01,  4.67000847e+01,  6.52229307e+01,\n",
       "         4.82760596e+01,  6.65687791e+01, -2.78510834e+01, -8.95698851e+01,\n",
       "        -6.58348710e+01, -2.78861833e+01,  2.65533005e+01,  4.01113492e+01,\n",
       "        -2.97689598e+01,  3.18536051e+00, -2.07913467e+01,  5.98624525e+00,\n",
       "         3.86204090e+00,  3.61291881e+01, -1.10760893e+02,  1.01957842e+01,\n",
       "         2.79162255e+01, -4.12822249e+01,  9.46326947e+01, -1.35594249e+01,\n",
       "        -4.45196859e+01,  1.64656278e+01, -5.53053873e+00, -2.48144716e+01,\n",
       "         3.83055643e+01, -1.14176247e+01,  3.30365358e+01, -1.93938726e+01,\n",
       "         5.41007644e+01,  1.50706608e+02,  7.56918906e+01, -8.47930295e+01,\n",
       "         4.39723500e+01, -3.42841788e+01, -3.75713093e+00,  6.91842828e+00,\n",
       "        -5.02852489e+01,  6.41411381e+01, -1.52659249e+01,  3.50620511e+01,\n",
       "         4.96254981e+01, -4.83517931e+01,  1.72246756e+01,  8.14704147e+01,\n",
       "        -3.75324766e-03,  5.85720390e+00, -4.18908464e+01,  5.54054604e+01,\n",
       "         4.62882896e+01,  2.07714313e+01, -1.75474185e+01,  1.56449159e+00,\n",
       "         9.40875866e+00, -4.40487756e+01,  4.41077773e+01,  8.91504621e+01,\n",
       "         4.98761604e+01,  7.80134651e+01,  5.18217899e+01,  3.47948542e+01,\n",
       "        -5.21882775e+01, -2.12355623e+01, -3.29322112e+01,  6.76851429e+01,\n",
       "        -4.75416223e+01,  6.09482701e+01,  3.07251556e+01,  2.13704845e+01,\n",
       "         5.29022251e+01, -8.64952210e+01, -2.26726131e+01, -6.12072214e+01,\n",
       "        -3.70484059e+01,  5.64394297e+01,  7.89649622e+01, -7.41095615e+01,\n",
       "         5.64679408e+01, -2.78123596e+01,  6.10937228e+01,  4.15994492e+01,\n",
       "        -3.33650695e+01, -1.04127740e+02, -3.38061648e+01, -4.40484895e+00,\n",
       "         2.32930652e+01, -2.86399553e+01, -4.81637574e+01, -1.26202792e+01,\n",
       "         8.08611017e+01,  4.89514967e+01,  3.13997192e+01,  1.55611172e+01,\n",
       "         7.26766221e-01,  1.17746969e+02,  4.72535455e+00,  2.17565416e+01,\n",
       "        -2.13668829e+01, -3.42139750e+01,  3.05461147e+01, -9.22712779e+00,\n",
       "         4.79528228e+01, -6.42032546e+01, -4.63091600e+01, -2.25818172e+01,\n",
       "        -1.04061997e+01,  4.23102340e+01, -5.53743166e+01, -2.18632540e+01,\n",
       "         5.17502638e+01, -4.59990044e+00, -5.55736117e+00, -3.08582846e+01,\n",
       "         9.73729072e+00, -2.66577344e+01,  8.94284679e+01,  7.87756441e+01,\n",
       "         4.33911247e+01,  6.80203851e+01,  8.90387477e+01, -4.29121307e+01,\n",
       "        -1.93407832e+00,  6.91584596e+01, -3.65933504e+01,  8.21806101e+00,\n",
       "        -6.29072480e+01,  6.53212960e+01,  2.87782257e+01, -5.73449655e+01,\n",
       "         1.19900619e+01,  2.15280347e+01, -3.02203082e+01,  2.14712446e+01,\n",
       "         2.96890305e+01,  2.23555695e+01,  1.09936039e+02,  1.74069645e+01,\n",
       "        -2.99950291e+01,  3.99637658e+01, -7.12552265e+01, -7.06746944e-01,\n",
       "         2.00689169e+01,  1.63736587e+01,  2.13992702e+01, -2.35267915e+01,\n",
       "         3.84106254e+01, -1.80978528e+01, -4.59563032e+01,  8.98576706e+00,\n",
       "         4.05464256e+01, -5.47818791e+01,  1.97682271e+00,  4.22100511e+01,\n",
       "         7.42079478e+00,  2.22179493e+01, -3.89875090e+00, -1.64529899e+01,\n",
       "         1.60303778e+01, -1.17393106e+01,  2.92397739e+01,  1.42354211e+01,\n",
       "        -1.52252910e+01,  4.99433115e-01,  1.97894293e+01,  1.05332128e+02,\n",
       "         1.63330886e+01, -1.87561357e+01,  1.61617845e+01,  1.35193992e+02,\n",
       "         3.93921977e+01,  4.69091165e+01,  3.38410983e+01,  1.00452439e+01,\n",
       "        -1.98505007e+01, -4.28904924e+01, -5.95015321e+01, -1.01208998e+02,\n",
       "        -5.89295374e+00,  6.51873984e+01, -5.15792160e+01,  4.69271962e+01,\n",
       "         1.40640533e+01,  2.18119519e+01,  1.97368745e+01, -3.00326423e+01,\n",
       "        -2.52233604e+01,  1.36077878e+00,  8.35740382e+01, -4.37283741e+01,\n",
       "         1.37002716e+01, -3.41816449e+01, -8.42504207e+01,  1.05444569e+01,\n",
       "        -9.19122650e+00, -1.38113603e+00,  4.34998801e+01,  1.11393044e+01,\n",
       "        -2.99515623e+01,  3.83084926e+01,  5.77983795e+01,  3.74394782e+01,\n",
       "        -8.61561492e+01,  7.51004540e+01, -2.72675258e+00,  8.04587344e+00,\n",
       "         1.32037736e+01, -4.69264007e+01,  2.66926702e+01,  1.23177923e+02,\n",
       "        -4.08210812e+01,  3.49038467e+01,  7.68033113e+01,  6.04176642e+01,\n",
       "         1.33238237e+01,  9.61004577e+01,  6.25008473e+01,  1.04916841e+01,\n",
       "         6.46573902e+01,  4.28025180e+01,  5.47679960e+01,  2.62922343e+01,\n",
       "         5.28461715e+01, -4.02071529e+01,  6.25086045e+01,  1.02095095e+02,\n",
       "        -6.65800227e+01,  2.58028047e+01,  3.56219295e+01, -4.35803513e+01,\n",
       "         1.90532495e+00, -2.42594932e+01,  2.27144137e+01,  3.39053230e+01,\n",
       "         3.40387194e+00, -1.51043087e+01, -3.27102144e+01,  3.05582948e+01,\n",
       "         1.33189212e-01, -7.08764561e+01,  9.27027450e+01,  3.39727988e+01,\n",
       "        -1.00069459e+02,  4.59662607e+01, -4.68443016e+01, -1.01862479e+01,\n",
       "        -4.00864486e+01,  2.32611058e+00,  1.21171125e+01,  9.32625057e+01,\n",
       "         7.64497243e+01, -2.26941308e+00, -3.95580274e+01, -1.32915014e+01,\n",
       "         4.38533100e+01, -2.07376444e+00,  4.75056233e+01,  1.81695667e+01,\n",
       "        -8.23297881e+01, -7.66795369e+01, -2.71035630e+01, -1.30470631e+01,\n",
       "        -4.67782096e+01,  5.06245343e+01, -1.88670256e+01, -5.44570816e+01,\n",
       "         3.20779225e+01,  3.32803949e+01, -2.47210430e+01, -2.50353890e+01,\n",
       "         2.15164355e+01, -4.78293157e+01,  2.98839406e+01,  1.02169862e+02,\n",
       "         3.31794549e+01,  6.11891392e+01, -2.10773366e+01, -1.72794425e+01,\n",
       "        -6.68279121e+01, -4.85329425e+00, -1.52462415e+01, -8.18507905e+00,\n",
       "         1.96569554e+01,  1.64325827e+01, -4.76763073e+00, -2.77805582e+01,\n",
       "        -1.39086611e+01, -1.27360438e+00, -3.04918858e+01,  3.51691536e+01,\n",
       "        -6.12768447e+01,  4.12078167e+01, -5.47245537e+00,  6.08247385e+01,\n",
       "        -1.83299962e+01,  4.26224091e+01, -1.02114706e+01, -1.83971204e+01,\n",
       "         8.18903154e+01,  5.70178257e+01, -3.39601280e+01,  6.31970978e+01,\n",
       "         3.36463437e+01, -1.04782778e+01,  5.95322490e+01,  4.24553313e+01,\n",
       "        -3.26953424e+01,  9.64896435e+01,  1.45274568e+01,  6.32604610e+01,\n",
       "        -2.76363011e+01, -2.48382836e+01,  1.17197562e+01, -2.68830941e+01,\n",
       "         2.13477418e+01, -7.57563858e+01,  7.28225326e+01,  5.63533777e+01,\n",
       "         7.46926245e+01,  4.14100573e+01,  5.55330414e+01,  6.51494357e+01,\n",
       "         4.16531726e+01,  2.02701855e+01,  1.09524421e+02,  1.42312672e+02,\n",
       "         9.32054200e+01,  4.34671575e+01,  1.69730818e+01,  9.30674099e+00,\n",
       "         3.47322186e+01, -1.02119114e+00, -1.86952908e+01,  1.45739360e+01,\n",
       "        -3.72724562e+00, -4.94224477e+01,  3.18158537e+01, -2.05878267e+01,\n",
       "         7.75569442e+01,  8.53305013e+01,  3.33754193e+01,  1.74790712e+01,\n",
       "        -4.51113478e+01, -1.04837335e+01,  5.86352189e+01,  1.44285833e+01,\n",
       "         2.91884487e+00, -3.30566985e+00,  1.35774539e+01, -2.93462802e+01,\n",
       "        -4.64432907e+01, -2.30256435e+01, -2.81942576e+01, -4.87728087e+01,\n",
       "         5.80838489e+01, -8.46365160e+00,  4.73605840e+00,  5.92105355e+01,\n",
       "        -6.35315174e+01,  1.22959824e+01,  3.71078409e+01,  6.07817030e+00,\n",
       "         2.19494628e+01, -4.23737389e+01,  5.56780703e+01,  8.54713796e+01,\n",
       "         3.35563413e-01,  2.10139586e+00, -2.55920159e+00,  1.56506120e+01,\n",
       "        -3.14803150e+01,  1.37648971e+01,  3.83651266e+01,  2.05426577e+01,\n",
       "         2.17298290e+01,  3.96792982e+01,  5.36081194e+00, -1.45985264e+00,\n",
       "        -6.15873137e+01, -5.63435087e+01,  2.64911570e+01, -4.66570321e+01,\n",
       "        -1.36587765e+01, -7.89756106e+00, -5.40871736e+00, -1.13269745e+01,\n",
       "        -4.98743520e+01, -6.01718569e+00, -1.57643620e+01,  5.82157981e+01,\n",
       "         3.82545557e+01, -1.36757942e+01,  4.76364456e+01,  2.10844747e+01,\n",
       "        -5.48644070e+01,  8.66628965e+00,  3.32818878e+01, -1.28570961e+01,\n",
       "         1.00089605e+02, -9.25147176e+01,  3.32829279e+01,  5.65579300e+01,\n",
       "         3.41740561e+01,  1.80883481e+01, -1.28763360e+00, -3.13300551e+01,\n",
       "         2.00893499e+01,  4.15161009e+01,  1.33314357e+01, -1.29140574e+01,\n",
       "        -5.11533010e+00, -2.30503349e+01, -2.73255346e+01,  5.74812933e+01,\n",
       "         3.29797222e+01,  8.38463827e+01,  5.59054176e+01,  3.45040570e+01,\n",
       "        -5.64327739e+00, -8.58949396e+01, -4.16597096e+01, -8.49972640e+00,\n",
       "         5.21947809e+01, -1.33668652e+01,  2.30355929e+01,  5.20850782e+01,\n",
       "        -4.60435177e+01,  3.35518740e+01,  3.88517440e+01,  3.05504336e+01,\n",
       "         1.25683687e+02,  1.01655119e+01, -3.48233062e+01,  5.62201615e+01,\n",
       "        -6.96297140e+01,  6.47923895e+00, -3.18842682e+01,  2.40661640e+00,\n",
       "        -1.03622568e+01, -7.17696425e+01,  1.06238965e+02,  5.41965068e+01,\n",
       "         4.71663510e+01,  2.68316419e+01,  6.94647936e+01, -4.87960545e+01,\n",
       "        -4.38874224e+01, -2.76488651e+01, -9.50058639e+01,  3.67440832e+01,\n",
       "        -3.06253715e+01, -6.38170078e+01,  8.81759326e+01, -3.28451026e+01,\n",
       "         2.88245884e+01,  1.33983676e+02,  2.34627459e+00, -1.64387842e+00,\n",
       "        -1.62544350e+01,  3.32724765e+01,  2.71663439e+01, -2.15898242e+01,\n",
       "         6.26731848e+01, -1.26527253e+00,  5.91307018e+01, -3.59953539e+01,\n",
       "        -2.84232384e+01,  6.29762094e+01,  4.28738549e+01, -7.44368310e+00,\n",
       "         4.37872957e+01, -2.27993406e+01,  6.31206047e+01,  1.82092353e+01,\n",
       "        -8.42603830e+00,  1.03662966e+02,  4.28022468e+01,  2.03168242e+01,\n",
       "         3.56154203e+01,  2.69585244e+01, -4.77226503e+01, -1.89448890e+01,\n",
       "        -8.91587936e+01, -4.93516780e+01,  1.75725324e+01,  2.92340052e+01,\n",
       "        -3.77465572e+01,  5.25714199e+01,  1.07282435e+01, -9.89593795e+00,\n",
       "        -2.81971631e+01,  5.01023683e+01, -8.60926256e+01,  3.72597857e+01,\n",
       "        -1.61567455e+01,  5.71349904e+01, -6.76199104e+01, -6.11006154e+01,\n",
       "        -1.44019566e+01, -1.70462474e+01,  1.15242670e+02,  7.66483277e+01,\n",
       "        -4.29224651e+01,  5.88039070e+01,  2.51163755e+01, -6.83370488e+01,\n",
       "        -5.66133606e+01, -8.29254218e+01, -1.57827860e+00, -4.10480363e+01,\n",
       "        -1.12361521e+01,  1.03066460e+02,  2.76241130e+01, -5.70704940e+01,\n",
       "         2.06546475e+01,  2.21302339e+01, -8.36014351e+01,  6.60733059e+01,\n",
       "         4.33282341e+01, -3.77458176e+00, -7.38360080e+01,  1.58201710e+01,\n",
       "         7.05541451e+01, -5.35122848e+01, -2.45800248e+01, -3.64307806e+01,\n",
       "         1.08837570e+01,  1.57897850e+01,  5.10409311e+01,  2.70160627e+01,\n",
       "         3.60079404e+01, -2.73799019e+01,  4.98359537e+01, -4.60901311e+01]))"
      ]
     },
     "execution_count": 12,
     "metadata": {},
     "output_type": "execute_result"
    }
   ],
   "source": [
    "# your code here\n",
    "from scipy.stats import norm\n",
    "\n",
    "# norm.pdf(x, mu, sigma)\n",
    "\n",
    "def generate_normal(mean,std,size):\n",
    "    x = norm.rvs(size=size)\n",
    "    randoms = mean + std*x\n",
    "    return randoms\n",
    "\n",
    "n1 = generate_normal(10,1,1000)\n",
    "n2 = generate_normal(10,50,1000)\n",
    "\n",
    "n1,n2"
   ]
  },
  {
   "cell_type": "code",
   "execution_count": 15,
   "metadata": {},
   "outputs": [
    {
     "data": {
      "text/plain": [
       "<Axes: ylabel='Count'>"
      ]
     },
     "execution_count": 15,
     "metadata": {},
     "output_type": "execute_result"
    },
    {
     "data": {
      "image/png": "[encoded data removed]",
      "text/plain": [
       "<Figure size 640x480 with 1 Axes>"
      ]
     },
     "metadata": {},
     "output_type": "display_data"
    }
   ],
   "source": [
    "sns.histplot(n1)\n"
   ]
  },
  {
   "cell_type": "code",
   "execution_count": 16,
   "metadata": {},
   "outputs": [
    {
     "data": {
      "text/plain": [
       "<Axes: ylabel='Count'>"
      ]
     },
     "execution_count": 16,
     "metadata": {},
     "output_type": "execute_result"
    },
    {
     "data": {
      "image/png": "[encoded data removed]",
      "text/plain": [
       "<Figure size 640x480 with 1 Axes>"
      ]
     },
     "metadata": {},
     "output_type": "display_data"
    }
   ],
   "source": [
    "sns.histplot(n2)"
   ]
  },
  {
   "cell_type": "markdown",
   "metadata": {},
   "source": [
    "How are the two distributions different?"
   ]
  },
  {
   "cell_type": "code",
   "execution_count": null,
   "metadata": {},
   "outputs": [],
   "source": [
    "# your answer below"
   ]
  },
  {
   "cell_type": "markdown",
   "metadata": {},
   "source": [
    "## Normal Distribution of Real Data\n",
    "\n",
    "In this challenge we are going to take a look the real data. We will use vehicles.csv file for this exercise"
   ]
  },
  {
   "cell_type": "markdown",
   "metadata": {},
   "source": [
    "First import vehicles.csv.\n",
    "Then plot the histograms for the following variables:\n",
    "\n",
    "1. Fuel Barrels/Year"
   ]
  },
  {
   "cell_type": "code",
   "execution_count": 19,
   "metadata": {},
   "outputs": [
    {
     "data": {
      "text/plain": [
       "<Axes: xlabel='Fuel Barrels/Year', ylabel='Count'>"
      ]
     },
     "execution_count": 19,
     "metadata": {},
     "output_type": "execute_result"
    },
    {
     "data": {
      "image/png": "[encoded data removed]",
      "text/plain": [
       "<Figure size 640x480 with 1 Axes>"
      ]
     },
     "metadata": {},
     "output_type": "display_data"
    }
   ],
   "source": [
    "# your code here\n",
    "\n",
    "# importar el csv vehicles\n",
    "\n",
    "import pandas as pd\n",
    "\n",
    "df = pd.read_csv('vehicles.csv')\n",
    "\n",
    "df.head()\n",
    "\n",
    "# crear un histograma con seaborn de los Fuel Barrels/Year\n",
    "\n",
    "sns.histplot(df['Fuel Barrels/Year'])"
   ]
  },
  {
   "cell_type": "markdown",
   "metadata": {},
   "source": [
    "2. CO2 Emission Grams/Mile "
   ]
  },
  {
   "cell_type": "code",
   "execution_count": 21,
   "metadata": {},
   "outputs": [
    {
     "data": {
      "text/plain": [
       "<Axes: xlabel='CO2 Emission Grams/Mile', ylabel='Count'>"
      ]
     },
     "execution_count": 21,
     "metadata": {},
     "output_type": "execute_result"
    },
    {
     "data": {
      "image/png": "[encoded data removed]",
      "text/plain": [
       "<Figure size 640x480 with 1 Axes>"
      ]
     },
     "metadata": {},
     "output_type": "display_data"
    }
   ],
   "source": [
    "# your code here\n",
    "\n",
    "sns.histplot(df['CO2 Emission Grams/Mile'])"
   ]
  },
  {
   "cell_type": "markdown",
   "metadata": {},
   "source": [
    "3. Combined MPG"
   ]
  },
  {
   "cell_type": "code",
   "execution_count": 22,
   "metadata": {},
   "outputs": [
    {
     "data": {
      "text/plain": [
       "<Axes: xlabel='Combined MPG', ylabel='Count'>"
      ]
     },
     "execution_count": 22,
     "metadata": {},
     "output_type": "execute_result"
    },
    {
     "data": {
      "image/png": "[encoded data removed]",
      "text/plain": [
       "<Figure size 640x480 with 1 Axes>"
      ]
     },
     "metadata": {},
     "output_type": "display_data"
    }
   ],
   "source": [
    "# your code here\n",
    "\n",
    "sns.histplot(df['Combined MPG'])"
   ]
  },
  {
   "cell_type": "markdown",
   "metadata": {},
   "source": [
    "Which one(s) of the variables are nearly normally distributed? How do you know?"
   ]
  },
  {
   "cell_type": "code",
   "execution_count": null,
   "metadata": {},
   "outputs": [],
   "source": [
    "# your answer here"
   ]
  },
  {
   "cell_type": "markdown",
   "metadata": {},
   "source": [
    "## Exponential Distribution"
   ]
  },
  {
   "cell_type": "markdown",
   "metadata": {},
   "source": [
    "1. Using `numpy.random.exponential`, create a function that returns a list of numbers exponentially distributed with the mean of 10. \n",
    "\n",
    "1. Use the function to generate two number sequences with the size of 10 and 100.\n",
    "\n",
    "1. Plot the distributions as histograms with the nubmer of bins as 100.\n",
    "\n",
    "Your output should look like below:\n",
    "\n",
    "![exponential distribution](ed.png)"
   ]
  },
  {
   "cell_type": "code",
   "execution_count": 27,
   "metadata": {},
   "outputs": [
    {
     "data": {
      "text/plain": [
       "<Axes: ylabel='Count'>"
      ]
     },
     "execution_count": 27,
     "metadata": {},
     "output_type": "execute_result"
    },
    {
     "data": {
      "image/png": "[encoded data removed]",
      "text/plain": [
       "<Figure size 640x480 with 1 Axes>"
      ]
     },
     "metadata": {},
     "output_type": "display_data"
    }
   ],
   "source": [
    "# your code here\n",
    "\n",
    "def generate_exponential(mean,size):\n",
    "\n",
    "    return np.random.exponential(mean, size)\n",
    "\n",
    "e1 = generate_exponential(10,10)\n",
    "e1\n",
    "\n",
    "sns.histplot(e1, bins=100)"
   ]
  },
  {
   "cell_type": "code",
   "execution_count": 28,
   "metadata": {},
   "outputs": [
    {
     "data": {
      "text/plain": [
       "<Axes: ylabel='Count'>"
      ]
     },
     "execution_count": 28,
     "metadata": {},
     "output_type": "execute_result"
    },
    {
     "data": {
      "image/png": "[encoded data removed]",
      "text/plain": [
       "<Figure size 640x480 with 1 Axes>"
      ]
     },
     "metadata": {},
     "output_type": "display_data"
    }
   ],
   "source": [
    "e2 = generate_exponential(10,100)\n",
    "\n",
    "sns.histplot(e2, bins=100)"
   ]
  },
  {
   "cell_type": "markdown",
   "metadata": {},
   "source": [
    "How are the two distributions different?"
   ]
  },
  {
   "cell_type": "code",
   "execution_count": null,
   "metadata": {},
   "outputs": [],
   "source": [
    "# your answer here"
   ]
  },
  {
   "cell_type": "markdown",
   "metadata": {},
   "source": [
    "## Exponential Distribution of Real Data\n",
    "\n",
    "Suppose that the amount of time one spends in a bank is exponentially distributed with mean as 10 minutes (i.e. λ = 1/10). What is the probability that a customer will spend less than fifteen minutes in the bank? \n",
    "\n",
    "Write a code in python to solve this problem"
   ]
  },
  {
   "cell_type": "code",
   "execution_count": 38,
   "metadata": {},
   "outputs": [
    {
     "data": {
      "text/plain": [
       "0.7768698398515702"
      ]
     },
     "execution_count": 38,
     "metadata": {},
     "output_type": "execute_result"
    }
   ],
   "source": [
    "# your answer here\n",
    "# Hint: This is same as saying P(x<15)\n",
    "\n",
    "from scipy.stats import expon\n",
    "\n",
    "p = 1/10\n",
    "exp = expon(scale=1/p)\n",
    "exp.cdf(15)  "
   ]
  },
  {
   "cell_type": "markdown",
   "metadata": {},
   "source": [
    "What is the probability that the customer will spend more than 15 minutes"
   ]
  },
  {
   "cell_type": "code",
   "execution_count": null,
   "metadata": {},
   "outputs": [],
   "source": [
    "# your answer here"
   ]
  },
  {
   "cell_type": "code",
   "execution_count": null,
   "metadata": {},
   "outputs": [],
   "source": [
    "1 - exp.cdf(15)"
   ]
  }
 ],
 "metadata": {
  "kernelspec": {
   "display_name": "Python 3",
   "language": "python",
   "name": "python3"
  },
  "language_info": {
   "codemirror_mode": {
    "name": "ipython",
    "version": 3
   },
   "file_extension": ".py",
   "mimetype": "text/x-python",
   "name": "python",
   "nbconvert_exporter": "python",
   "pygments_lexer": "ipython3",
   "version": "3.10.9"
  },
  "toc": {
   "base_numbering": 1,
   "nav_menu": {},
   "number_sections": true,
   "sideBar": true,
   "skip_h1_title": false,
   "title_cell": "Table of Contents",
   "title_sidebar": "Contents",
   "toc_cell": true,
   "toc_position": {},
   "toc_section_display": true,
   "toc_window_display": false
  },
  "varInspector": {
   "cols": {
    "lenName": 16,
    "lenType": 16,
    "lenVar": 40
   },
   "kernels_config": {
    "python": {
     "delete_cmd_postfix": "",
     "delete_cmd_prefix": "del ",
     "library": "var_list.py",
     "varRefreshCmd": "print(var_dic_list())"
    },
    "r": {
     "delete_cmd_postfix": ") ",
     "delete_cmd_prefix": "rm(",
     "library": "var_list.r",
     "varRefreshCmd": "cat(var_dic_list()) "
    }
   },
   "types_to_exclude": [
    "module",
    "function",
    "builtin_function_or_method",
    "instance",
    "_Feature"
   ],
   "window_display": false
  }
 },
 "nbformat": 4,
 "nbformat_minor": 2
}
