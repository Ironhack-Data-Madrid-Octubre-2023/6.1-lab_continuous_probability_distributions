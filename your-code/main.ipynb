{
 "cells": [
  {
   "cell_type": "markdown",
   "metadata": {
    "toc": true
   },
   "source": [
    "<h1>Table of Contents<span class=\"tocSkip\"></span></h1>\n",
    "<div class=\"toc\"><ul class=\"toc-item\"><li><span><a href=\"#Before-your-start:\" data-toc-modified-id=\"Before-your-start:-1\"><span class=\"toc-item-num\">1&nbsp;&nbsp;</span>Before your start:</a></span><ul class=\"toc-item\"><li><span><a href=\"#Uniform-Distribution\" data-toc-modified-id=\"Uniform-Distribution-1.1\"><span class=\"toc-item-num\">1.1&nbsp;&nbsp;</span>Uniform Distribution</a></span></li><li><span><a href=\"#Normal-Distribution\" data-toc-modified-id=\"Normal-Distribution-1.2\"><span class=\"toc-item-num\">1.2&nbsp;&nbsp;</span>Normal Distribution</a></span></li><li><span><a href=\"#Normal-Distribution-of-Real-Data\" data-toc-modified-id=\"Normal-Distribution-of-Real-Data-1.3\"><span class=\"toc-item-num\">1.3&nbsp;&nbsp;</span>Normal Distribution of Real Data</a></span></li><li><span><a href=\"#Exponential-Distribution\" data-toc-modified-id=\"Exponential-Distribution-1.4\"><span class=\"toc-item-num\">1.4&nbsp;&nbsp;</span>Exponential Distribution</a></span></li><li><span><a href=\"#Exponential-Distribution-of-Real-Data\" data-toc-modified-id=\"Exponential-Distribution-of-Real-Data-1.5\"><span class=\"toc-item-num\">1.5&nbsp;&nbsp;</span>Exponential Distribution of Real Data</a></span></li></ul></li></ul></div>"
   ]
  },
  {
   "cell_type": "markdown",
   "metadata": {},
   "source": [
    "# Before your start:\n",
    "\n",
    "    Read the README.md file\n",
    "    Comment as much as you can and use the resources (README.md file)\n",
    "    Happy learning!"
   ]
  },
  {
   "cell_type": "markdown",
   "metadata": {},
   "source": [
    "In this exercise, we  will generate random numbers from the continuous disributions we learned in the lesson. There are two ways to generate random numbers:\n",
    "\n",
    "1. Using the numpy library \n",
    "1. using the Scipy library \n",
    "\n",
    "Use either or both of the lbraries in this exercise."
   ]
  },
  {
   "cell_type": "markdown",
   "metadata": {},
   "source": [
    "## Uniform Distribution\n",
    "\n",
    "To generate uniform random numbers between any two given values using scipy, we can either use the following code or the code that we have\n",
    "discussed in class:"
   ]
  },
  {
   "cell_type": "code",
   "execution_count": 1,
   "metadata": {},
   "outputs": [
    {
     "name": "stdout",
     "output_type": "stream",
     "text": [
      "[2.35035635 2.81218961 2.6584479  2.42646283 2.77109638 2.43298924\n",
      " 2.98377783 2.38656385 2.95740011 2.17309223]\n"
     ]
    }
   ],
   "source": [
    "\n",
    "import numpy as np\n",
    "from scipy.stats import uniform\n",
    "x = uniform.rvs(size=10)\n",
    "a = 2\n",
    "b = 3\n",
    "randoms  = a + (b-a)*x\n",
    "print(randoms)"
   ]
  },
  {
   "cell_type": "markdown",
   "metadata": {},
   "source": [
    "**Your task:**\n",
    "\n",
    "1. Based on the code above, write a function that generates uniformly distributed random numbers. There are several requirements for your function:\n",
    "    * It should accept 3 parameters: \n",
    "        * `bottom` - the lower boundary of the generated numbers\n",
    "        * `ceiling` - the upper boundary of the generated numbers\n",
    "        * `count` - how many numbers to generate\n",
    "    * It should return an array of uniformly distributed random numbers\n",
    "\n",
    "1. Call your function with 2 sets of params below:\n",
    "    * bottom=10, ceiling=15, count=100\n",
    "    * bottom=10, ceiling=60, count=1,000\n",
    "\n",
    "1. Plot the uniform distributions generated above using histograms, where x axis is the value and y axis is the count. Let the histogram's number of bins be 10.\n",
    "\n",
    "Your output should look like below:\n",
    "\n",
    "![uniform distribution](ud.png)"
   ]
  },
  {
   "cell_type": "code",
   "execution_count": 2,
   "metadata": {},
   "outputs": [],
   "source": [
    "# your code here\n",
    "\n",
    "def generate_uniform(bottom,ceiling,count):\n",
    "    x = uniform.rvs(size=count)\n",
    "    a = bottom\n",
    "    b = ceiling\n",
    "    randoms  = a + (b-a)*x\n",
    "    return randoms\n",
    "    "
   ]
  },
  {
   "cell_type": "code",
   "execution_count": 3,
   "metadata": {},
   "outputs": [
    {
     "data": {
      "text/plain": [
       "<Axes: ylabel='Count'>"
      ]
     },
     "execution_count": 3,
     "metadata": {},
     "output_type": "execute_result"
    },
    {
     "data": {
      "image/png": "[encoded data removed]",
      "text/plain": [
       "<Figure size 640x480 with 1 Axes>"
      ]
     },
     "metadata": {},
     "output_type": "display_data"
    }
   ],
   "source": [
    "u1 = generate_uniform(10,15,100)\n",
    "u1\n",
    "\n",
    "# crear un histograma con seaborn\n",
    "\n",
    "import seaborn as sns\n",
    "\n",
    "sns.histplot(u1)"
   ]
  },
  {
   "cell_type": "code",
   "execution_count": 4,
   "metadata": {},
   "outputs": [
    {
     "data": {
      "text/plain": [
       "<Axes: ylabel='Count'>"
      ]
     },
     "execution_count": 4,
     "metadata": {},
     "output_type": "execute_result"
    },
    {
     "data": {
      "image/png": "[encoded data removed]",
      "text/plain": [
       "<Figure size 640x480 with 1 Axes>"
      ]
     },
     "metadata": {},
     "output_type": "display_data"
    }
   ],
   "source": [
    "u2 = generate_uniform(10,60,1000)\n",
    "u2\n",
    "\n",
    "sns.histplot(u2)"
   ]
  },
  {
   "cell_type": "markdown",
   "metadata": {},
   "source": [
    "How are the two distributions different?"
   ]
  },
  {
   "cell_type": "code",
   "execution_count": 5,
   "metadata": {},
   "outputs": [],
   "source": [
    "# your answer below"
   ]
  },
  {
   "cell_type": "markdown",
   "metadata": {},
   "source": [
    "La distribución es parecida en ambas gráficas, pero su rango de valores es diferente."
   ]
  },
  {
   "cell_type": "markdown",
   "metadata": {},
   "source": [
    "## Normal Distribution\n",
    "\n",
    "1. In the same way in the Uniform Distribution challenge, write a function that generates normally distributed random numbers.\n",
    "1. Generate 1,000 normally distributed numbers with the average of 10 and standard deviation of 1\n",
    "1. Generate 1,000 normally distributed numbers with the average of 10 and standard deviation of 50\n",
    "2. Plot the distributions of the data generated.\n",
    "\n",
    "Expected output:\n",
    "\n",
    "![normal distribution](nd.png)"
   ]
  },
  {
   "cell_type": "code",
   "execution_count": 6,
   "metadata": {},
   "outputs": [
    {
     "data": {
      "text/plain": [
       "(array([ 9.88598986, 10.00653604, 11.03631697,  9.42540466,  9.93895593,\n",
       "         9.83860122,  9.99466818,  8.62713903, 10.88562453,  7.18168463,\n",
       "         9.81386532,  9.60707224,  9.35240955,  8.45555412,  9.9992646 ,\n",
       "         9.43829474,  9.53111414,  9.15388312, 10.01929922, 11.18099332,\n",
       "         8.50554497,  9.36318333, 10.06474727, 10.27384448,  8.41547957,\n",
       "         9.06974859, 11.92619228,  9.76665758, 11.89860559,  9.63199151,\n",
       "        10.50291985,  9.01093993, 10.35417618,  8.17037177, 10.95770292,\n",
       "         9.988471  , 10.20938421,  9.14883548,  9.56247548, 10.13859723,\n",
       "        10.42969571, 10.18239638, 11.66805263,  9.47972424, 10.52817741,\n",
       "         9.78892576,  9.60655407, 11.5183066 ,  9.5773045 ,  8.73287538,\n",
       "         9.02413421,  9.74232191, 11.08450977, 10.24785806, 10.81523663,\n",
       "        10.24667717, 10.57682146,  9.28195193,  9.98486563, 10.60344638,\n",
       "        11.00716511,  9.38549181, 11.86009233,  7.97694216,  9.32470282,\n",
       "         8.92780679, 11.73280343,  9.19414669, 10.63036629,  9.68404021,\n",
       "         9.2424549 , 11.30307018,  9.37010116,  8.32320537,  9.21144234,\n",
       "        11.13390123, 10.03367175, 10.55805011,  8.58316246,  9.55767542,\n",
       "         9.28806839, 10.02643144, 10.3104565 , 10.70901071, 11.10489207,\n",
       "         8.72169164,  9.45614712, 10.95188756,  9.21021298,  8.96726853,\n",
       "         8.52402821,  8.6597328 , 11.17926174, 12.06128661, 12.44298043,\n",
       "         9.83846528, 11.06862321,  8.62279719,  9.94035996,  9.63867932,\n",
       "        10.73337177, 10.08366341, 10.34953023, 10.92529421, 10.66890552,\n",
       "         9.31169359,  9.6968637 , 10.1336088 , 11.73482472,  8.39595423,\n",
       "        11.58370837, 10.13193759, 11.36323408,  9.41311709, 10.02624725,\n",
       "         9.24277266, 10.51291595,  9.17106849, 10.06884297,  9.65223925,\n",
       "         9.03883491,  9.96622192, 10.20103016,  9.66234141,  8.80419907,\n",
       "         9.42848809, 10.22244838,  9.68458508, 12.61326817, 10.13444456,\n",
       "        11.06235132,  9.52212731,  7.65478533, 10.56334085, 11.60464027,\n",
       "        11.73625734,  9.09377111,  9.09095735,  9.43861145,  9.57957367,\n",
       "        11.0800543 ,  8.78527666,  9.45366829,  8.033257  , 12.01625841,\n",
       "        10.32680504, 10.19966404, 10.98887847, 10.36425759, 11.58548086,\n",
       "         9.69187462, 11.49860265,  9.13264297,  9.97003536, 10.47499245,\n",
       "         9.75657143,  8.13495095,  9.62332881, 10.94079661,  9.29065153,\n",
       "        10.21631058,  9.89759026,  6.99298737,  9.49637783, 10.39376734,\n",
       "         8.92443776, 10.19555381, 10.71236773,  8.78661525, 11.34094778,\n",
       "         9.74801667, 10.13861225, 10.36205371,  9.51082844,  9.58073319,\n",
       "         9.95412765,  9.90377694,  9.78164306, 11.08668383, 10.11981121,\n",
       "         9.04503798, 10.00295751, 10.11965865,  7.81784199, 10.0728729 ,\n",
       "        10.17144418, 10.51325827, 10.35102131,  8.78522365,  8.25608713,\n",
       "        10.91950432,  8.89611224, 10.16836973,  9.78221297,  8.29712967,\n",
       "         9.98065249,  9.82657545,  8.964897  ,  8.81580607,  9.07289498,\n",
       "         8.2963275 ,  8.97214813, 10.53213625,  8.75125307, 10.14560601,\n",
       "         8.56526366,  9.94329525,  8.75435285,  8.99720586, 12.20570229,\n",
       "         9.68489546, 10.39513839,  8.6591065 ,  9.91170348,  9.6554114 ,\n",
       "        11.87111855,  9.16125437, 10.10472961, 10.01703618, 12.32764923,\n",
       "         9.24951616,  9.32563672, 10.48645442, 10.08359633, 10.08811423,\n",
       "         8.42283235,  9.70152084,  9.52973866, 12.27833931, 10.15525745,\n",
       "        10.44858169, 11.54518036, 11.48348209,  9.76884352,  9.78603264,\n",
       "        11.52690949, 11.42433375, 11.63511696,  8.40998118,  8.74120922,\n",
       "        10.23412092, 11.80084592, 10.76775663, 10.33008817, 10.02740783,\n",
       "         8.63112153,  9.22074141,  8.63134355, 10.52756625,  9.92712177,\n",
       "        10.30488802,  8.79274121,  8.83745917, 10.39373871,  7.75694685,\n",
       "        10.28785448, 12.65281796, 10.93089648, 10.30794003, 11.97713475,\n",
       "         9.1825678 , 10.95080856, 11.27506228,  9.63616243,  9.01582715,\n",
       "         9.88237483,  8.85014373,  9.44330339,  8.45516003, 10.60953276,\n",
       "        11.26526851, 10.35051146, 10.42361281, 12.46618163,  9.35825797,\n",
       "        10.90105242, 10.72517134, 10.39278289,  8.87189254, 10.70326661,\n",
       "        12.46179799, 10.90588908,  8.27781035, 10.11629174, 10.13317046,\n",
       "        10.05852903,  9.79318805, 12.0131204 ,  9.33831135,  9.3161715 ,\n",
       "        10.80493473,  9.50385576,  9.29959688, 10.40475986, 10.60734574,\n",
       "        11.63601613, 10.59408398,  8.48834909, 10.65276009, 10.05130519,\n",
       "         9.8239072 , 10.33778204, 10.43569125, 10.3922615 , 10.83346331,\n",
       "        10.08603739,  9.10960915, 10.79883028, 10.18103307,  9.8694447 ,\n",
       "         9.32320991,  9.25014149,  9.36949903,  9.62912736, 10.02814255,\n",
       "        10.80646588, 12.15981239, 11.67685204, 10.5654996 , 10.3325712 ,\n",
       "        10.02184233,  9.48868604,  7.56931048,  9.9650544 ,  9.73318692,\n",
       "        10.49940258,  7.90921688,  9.6741542 ,  9.927569  ,  9.17211319,\n",
       "         9.78688539, 10.1877598 ,  8.09738343, 10.51503741,  9.75842405,\n",
       "        10.51489199,  8.60586811,  8.4680939 , 10.51337383,  9.2811165 ,\n",
       "         8.905772  , 10.47797037, 11.05112907,  9.53409778,  9.78244743,\n",
       "         9.10989899,  9.67047057,  9.61688445, 10.00559923,  9.69879329,\n",
       "        10.46766142,  9.85672205, 10.50642917,  9.37301812,  9.70905813,\n",
       "         9.99430472, 11.01621945, 10.39767508,  9.06211049,  8.36887464,\n",
       "         9.8088535 , 10.2244011 ,  9.06776194, 10.27151286,  9.63266558,\n",
       "         9.94996098, 11.34232047, 12.42063665,  9.61373538,  9.11089255,\n",
       "        10.96799007,  9.52597884,  9.93600673, 10.28678575,  9.38022886,\n",
       "         9.42242533,  9.81287783,  9.56420399, 10.10152995,  9.99460584,\n",
       "         9.29251867,  8.53148941, 10.94837601,  9.8950354 , 10.59475035,\n",
       "         9.49044164,  8.53611052,  9.64743714,  9.75796851,  9.21101173,\n",
       "        10.21612718, 10.24310201, 10.52348056, 10.29914141, 10.70437716,\n",
       "        11.06525776, 10.16933357, 10.63985422, 10.63434645,  9.39555484,\n",
       "        10.70027508,  9.2074736 , 10.4527264 ,  9.99096819, 10.14165717,\n",
       "         9.64746444,  9.69697566,  9.48784719,  9.45950442,  9.76480193,\n",
       "        11.07179327, 10.40121164,  8.63765597,  9.51814987, 11.2433969 ,\n",
       "         8.16860407,  9.71851936,  8.6871861 , 10.41547937, 10.78760242,\n",
       "         9.33122502, 10.25177623, 10.86992696, 11.95881885, 10.55728477,\n",
       "         9.28235801,  9.99858761,  8.67587772,  9.43456869, 10.23521637,\n",
       "        10.79806196,  9.08456881, 12.1747467 , 10.53516299,  9.55701714,\n",
       "        11.59670916, 10.21666856,  9.74843948, 11.00024854, 12.04172338,\n",
       "         9.64041181,  9.45791435, 11.74443611,  9.04035973,  8.14843824,\n",
       "         9.64798861,  8.65029479,  9.60995724, 11.41221154,  8.68229721,\n",
       "         9.92051951, 10.82106649, 10.71143144,  9.82243577,  8.99701969,\n",
       "        11.77251885, 10.78565496,  8.34606764, 10.03413833, 10.76911348,\n",
       "        11.08569608,  9.90986897,  9.62610891, 11.82523577, 10.37760066,\n",
       "         9.40781496,  9.5940817 ,  9.82751401,  9.25838529, 10.75694994,\n",
       "         9.64649577, 10.17154319,  9.19076108, 10.81150025,  9.90274324,\n",
       "        11.15719246,  9.90654407,  8.57981719,  9.68478111,  9.52186475,\n",
       "         9.89050106, 10.1145328 ,  9.68476274, 10.10121614,  9.40320706,\n",
       "        10.10841369, 10.53418374, 10.47153806, 10.27600132, 11.1010637 ,\n",
       "        10.52402742,  8.65747229,  8.80313083, 10.27065121,  9.20809268,\n",
       "         9.82786299,  9.22558835, 12.38509846, 10.63784499, 11.64264825,\n",
       "        10.74918488,  9.94412588,  8.86026091, 11.44302027,  9.8725444 ,\n",
       "         9.55037158, 11.677241  , 10.45738144,  9.33976   ,  9.28602833,\n",
       "         8.91206229, 10.39443623,  9.53877126,  9.32118646, 10.59451945,\n",
       "         9.75226982,  9.42519846, 12.30839325, 10.43635782, 12.52331548,\n",
       "        10.01992198, 10.42049066, 10.78639344,  9.97089366,  9.35769688,\n",
       "        10.59403112,  9.96971432, 11.01397667, 11.74959165, 11.03675433,\n",
       "         9.302844  ,  9.62937766,  9.79196818, 10.42683316, 10.25081149,\n",
       "         8.83111867,  9.73660889, 10.25017784,  9.40706586,  9.83454817,\n",
       "        11.70303228,  9.06644631, 11.43431164,  8.65078859,  8.85374544,\n",
       "        11.34033873, 10.00017562,  8.96156579, 11.12517929, 10.27184444,\n",
       "         9.84823227, 11.39556065,  9.69335688,  8.67947368,  9.45901883,\n",
       "         9.92186155, 11.38796734,  9.85475516,  9.9895995 , 11.62684735,\n",
       "        10.50109004, 10.65599074, 11.10455549, 11.04737535, 11.85438665,\n",
       "        10.50383272,  8.67361093,  9.47474831, 10.74635364, 10.9134726 ,\n",
       "         8.3907955 ,  9.98345707,  9.7048785 , 10.85628404,  9.9669435 ,\n",
       "         9.84121886,  9.7983115 ,  9.46405971, 10.75432074,  9.29984328,\n",
       "         9.42524252, 10.38462387,  9.77573983,  9.40411344, 11.25636787,\n",
       "         9.89969086, 10.42225624, 10.80809054, 10.48584947, 10.44319428,\n",
       "         9.34366654, 10.52867419,  8.76149315,  8.67775049,  9.27030499,\n",
       "        10.04514091,  9.76515938,  7.63583243,  9.60044309, 10.14274418,\n",
       "         9.96699291,  9.46322804,  9.28986015, 10.99244648, 10.54775512,\n",
       "        11.43702511, 11.12748028, 11.9375271 ,  9.17220857,  8.90954727,\n",
       "         8.96060521, 10.55494545, 10.68505034, 10.48453583,  9.51083892,\n",
       "        10.43618679,  9.70829584,  8.89934517,  9.31453149, 10.2851397 ,\n",
       "        10.97168467, 10.25833655, 10.46926878, 10.39521142,  9.8129107 ,\n",
       "        10.62251393, 10.36227963, 10.45040137,  9.63632143, 10.02648689,\n",
       "        10.12089481,  9.76488818,  9.65868648, 10.30111466,  9.99284594,\n",
       "         9.08559586,  9.42635372, 11.34578164,  9.61672282, 10.37840096,\n",
       "         7.3493611 , 11.09665136, 10.23291183, 10.29849383, 11.70978521,\n",
       "        10.90666878,  9.67634714,  8.00731006, 10.89297216, 11.76244127,\n",
       "         9.89667073, 10.69246195, 10.34798747, 10.55295725,  8.98779087,\n",
       "        10.02184309, 10.5411622 , 10.01165497, 10.06744056, 10.48581196,\n",
       "        10.92236602, 10.259845  ,  9.3472643 ,  8.61952042, 10.85927714,\n",
       "        10.40488651, 10.01405294, 10.75051959,  9.32257876, 10.81245819,\n",
       "         9.92434043, 10.11125723, 10.98471228,  8.09035305,  9.71667615,\n",
       "         8.17100202,  7.77109543,  9.99879626, 10.73695864,  9.91158446,\n",
       "        10.10012878,  9.92734081, 10.16169701, 10.78381011, 11.97840345,\n",
       "         9.90038902, 10.10471315,  9.74497508, 11.12169125,  9.85852632,\n",
       "        10.05893563, 10.94043295, 11.18231847,  9.8332822 , 10.80216733,\n",
       "         8.58145964, 11.01001203,  7.99152439,  9.23573459, 11.05948658,\n",
       "        11.20102212,  9.97584507, 10.63244207, 11.50438831, 10.51562996,\n",
       "        10.01226086, 10.49747376,  9.42054944, 10.13690798, 11.60366427,\n",
       "         9.17003715,  9.19135476,  9.93144567,  9.48700104,  9.77447961,\n",
       "         9.00159992, 10.36220701, 10.27911153,  8.92641379,  9.79908957,\n",
       "         9.49334232,  9.40211538, 10.02359683, 10.28214068,  8.6969202 ,\n",
       "        10.78786706,  9.23721513,  9.29087983, 10.22349246,  9.60641674,\n",
       "        10.82852883,  9.84156904, 10.12758711, 10.66215199, 10.10953569,\n",
       "        10.35035575,  9.42949356, 10.757341  , 10.70623952,  9.44085558,\n",
       "        10.16645051, 10.13711154,  9.60249132,  7.33222377,  9.65094742,\n",
       "         9.92996723,  9.78548959,  9.84911754, 10.0637502 ,  9.59222742,\n",
       "         9.22469041,  8.82324935, 10.41224573, 10.20829274,  9.7195316 ,\n",
       "         9.77992925,  8.49169984,  8.48997049,  9.92489955,  9.82251957,\n",
       "        11.48513594, 11.47100038, 10.07587604,  9.27956632,  8.71127143,\n",
       "        10.18921902, 10.13425451,  9.50493513, 10.64094838, 11.63355924,\n",
       "        11.83018202, 10.58635133,  9.11770307,  9.28086276, 10.33355727,\n",
       "        10.91197125,  9.96367403,  8.40493064, 10.66724871,  9.86935455,\n",
       "        10.39155884, 10.63381822, 10.51858303,  9.0478811 ,  9.45874442,\n",
       "        10.95233795,  9.82112796,  9.98671958, 10.72207634, 10.49847204,\n",
       "        10.44289722,  9.45474539, 10.86863156,  8.88674021, 10.24863843,\n",
       "         8.98117974,  8.81408614,  9.38540918,  9.93320055,  9.71808977,\n",
       "        11.5232906 ,  9.63387771,  9.04899332, 10.75148416, 10.95725057,\n",
       "         9.64035101,  8.32498015, 10.0313812 ,  9.09544905, 10.26631382,\n",
       "         8.42470941, 10.08384311, 10.15070709,  9.74621138,  9.92869739,\n",
       "        10.06081944, 10.48166762, 10.2820913 , 10.59991595,  8.98310627,\n",
       "         9.90557946, 10.10705228, 11.71774851,  8.48502389,  8.6539821 ,\n",
       "         9.89742428,  8.97328698,  9.00823489, 10.71223254, 10.17289626,\n",
       "         9.47857007, 10.26106354,  8.37196742, 11.72161557,  9.45209727,\n",
       "         9.63261043,  8.88918062, 11.25050054,  9.65438942, 10.91639153,\n",
       "        11.40874483,  9.29412972, 10.55055434,  9.23284958,  9.93297943,\n",
       "         9.40989449, 11.18587029, 10.08021318,  9.98873872,  9.6465828 ,\n",
       "        10.77768818,  9.1047974 , 10.106612  ,  8.85501776,  9.57615556,\n",
       "         9.65452688, 11.66749951,  9.20637451, 11.01422757, 11.15921291,\n",
       "        10.6622582 , 10.82530051,  9.34484406, 11.79302657, 10.84545611,\n",
       "         9.62422996,  8.93468233,  9.52759581, 10.16579281,  9.91983044,\n",
       "        11.20658948,  9.45573926,  9.844798  , 10.32241723, 12.1263946 ,\n",
       "         9.76510332, 10.74535142, 10.97338318, 10.89404449,  9.57473517,\n",
       "        10.16294009, 10.78150366, 10.20759075, 10.09407525, 10.22027925,\n",
       "        11.72105732, 11.25670231, 10.58273589,  7.82361619,  9.87926705,\n",
       "        11.38934872, 10.06456354,  9.3113679 ,  7.21927963,  9.75112174,\n",
       "         9.1224467 , 10.98727576,  9.54442311,  9.08986151, 10.25071642,\n",
       "        11.10444594, 10.68064108, 10.37837131,  9.45894723,  9.65893424,\n",
       "         9.88658065, 11.28004534,  9.30227684, 13.23528242, 10.57982251,\n",
       "        10.16440682,  8.86968899, 10.44869314, 10.40007473,  8.11131449,\n",
       "         8.8108427 ,  9.41566851,  8.39698979,  8.75936144, 10.5103037 ,\n",
       "         8.74324741, 11.03020942, 11.51981198,  9.36384129,  9.7831511 ,\n",
       "         9.56614465,  8.95483533,  8.95304832,  9.32998239,  9.6782283 ,\n",
       "        11.62800731, 11.96920383, 10.82170803, 12.66810141, 12.56279898,\n",
       "         9.63991464,  8.70852294, 10.987171  , 10.15691886,  8.48484457,\n",
       "        10.45063725,  9.14421607,  9.40352016, 10.35771979, 11.18953208,\n",
       "        11.84500603,  9.73385591,  9.84723748,  9.53847531, 10.49704426,\n",
       "        10.60486574, 11.98601622,  9.47828103, 11.43952909, 10.02185982,\n",
       "        10.23287293,  9.39283363, 12.06408444, 10.46422217,  9.6091584 ,\n",
       "         9.66660965,  7.80436801, 11.2804373 , 10.49086675,  9.63683812,\n",
       "         8.79754508, 11.47177534,  9.26020659, 10.88433113, 11.26257209,\n",
       "        10.32131724,  9.71373349, 12.7907948 , 10.26071228, 10.53033392,\n",
       "         8.92982488, 11.42002063, 10.27839981,  8.78945619,  7.42103775,\n",
       "        10.12782475, 10.43324831,  9.65496455, 10.29727085, 12.10858856,\n",
       "         9.72594244, 10.64492129,  9.58252364,  8.2512537 ,  9.05693786,\n",
       "        10.87914705, 10.24216508, 11.6211734 , 10.23751094, 10.79917032,\n",
       "        10.25429031,  8.96315623, 10.06042782, 11.15752943,  9.69624693]),\n",
       " array([ 7.34706224e+01,  1.21720808e+01, -1.01123571e+02,  3.07493247e+01,\n",
       "         8.29913520e-02, -1.77430273e+01,  8.06913855e+01, -3.24842563e+01,\n",
       "         5.27621240e+00,  5.98890475e+01, -3.45528119e+00,  2.04558955e+01,\n",
       "         1.12991372e+02, -2.96485311e+01, -2.44505294e+01, -2.50327942e+01,\n",
       "         1.03658094e+02, -1.84600341e+01,  1.03052444e+01,  5.85599946e+01,\n",
       "        -1.57275421e+01,  5.60852387e+01,  1.85084586e+01, -3.11214983e+01,\n",
       "        -2.27999209e+01,  4.47479171e+01,  5.61862251e+01,  1.31407108e+01,\n",
       "        -3.23385923e+01,  2.05773342e+01, -5.78277915e+01, -4.86005101e+01,\n",
       "         1.60854841e+01, -4.63238631e+01,  3.74400298e+01, -9.33659445e+00,\n",
       "         2.38643098e+01, -6.37360261e+00, -1.97086631e+01,  1.85444315e+01,\n",
       "         9.35596369e+01,  2.39096021e+01,  2.94263524e-01, -6.25960793e+00,\n",
       "         3.62763655e+01,  9.00981643e+01, -4.11299454e+01,  4.78389965e+01,\n",
       "         3.65157157e+01, -1.47070690e+01, -2.57057464e+01,  5.97932715e+01,\n",
       "         5.69450278e+01, -8.56383137e-01, -4.09880668e+01,  6.72295106e+00,\n",
       "         3.67474272e+01,  1.40802287e+00, -2.33210454e+01,  1.85253989e+01,\n",
       "        -5.09285793e+01, -7.94008497e+01, -4.15911906e+01,  1.44376098e+02,\n",
       "         1.29690322e+01,  1.24361070e+02,  8.35093312e+00,  3.64750328e+01,\n",
       "        -2.55717064e+01,  3.80145838e+01, -7.67444837e+01,  2.82799147e+01,\n",
       "         6.30449285e+01, -1.01816191e+01,  1.25210005e+01,  4.28544233e+01,\n",
       "         1.00138167e+02,  2.41418899e+01,  5.64568588e+01,  2.12257062e+01,\n",
       "        -1.92208420e+01,  5.35204591e+00,  6.84353171e+01,  2.77954637e+01,\n",
       "        -9.42818297e+01, -8.41028523e+01, -2.56807136e+01, -3.70145876e+01,\n",
       "         7.92476173e+01, -1.42360659e+01, -7.43501829e-01, -4.79850649e+01,\n",
       "        -7.77121029e+01,  7.72025108e+00, -3.49652843e+00, -2.90662406e+01,\n",
       "        -3.69073982e+00,  1.26222569e+02, -2.65038627e+01, -7.11141090e+01,\n",
       "        -8.13715649e+01, -8.86524543e+01,  3.71445588e+01, -1.16521941e+01,\n",
       "         1.33417513e+01,  3.60514727e+01, -8.12018996e+01,  7.18256810e+01,\n",
       "        -1.15011099e+01,  1.84416369e+01, -2.22526198e+01,  2.73815875e+01,\n",
       "         1.15552794e+02,  8.46935092e+01, -5.92130609e+01,  7.06145868e+01,\n",
       "         4.94881891e+01, -1.19507403e+01,  5.90504596e+01, -8.32740897e+01,\n",
       "         4.86760894e+01,  7.51052507e+01,  4.90279673e+01,  1.33951528e+02,\n",
       "        -1.98152190e+01,  5.90399497e+01,  3.51032554e+00, -9.22680004e+01,\n",
       "        -8.32757729e+01,  7.72237583e+01,  8.59545822e+01, -3.70050481e+00,\n",
       "         2.42344366e-01, -1.14054389e+02,  4.25684779e+01,  6.06685525e+01,\n",
       "        -1.23535338e+02,  3.31800123e+01,  4.37754851e+01,  1.03539671e+01,\n",
       "         4.70093781e+01,  5.56617011e+01,  9.40331288e+01, -2.76522478e+01,\n",
       "        -1.49743256e+01,  8.09547992e+01, -5.99419531e+01,  5.93600003e+01,\n",
       "         8.06937510e+01, -1.53760948e+01, -2.21644013e+01, -7.76898194e+00,\n",
       "        -1.45457568e+01,  2.24537156e+01,  3.15231693e+00, -1.30948990e+01,\n",
       "        -7.41108556e+01, -3.50651169e+01, -1.63671899e+01,  7.24311571e+00,\n",
       "        -3.53284004e+01,  6.06130428e+01, -5.99865555e+01, -5.85481369e+01,\n",
       "         6.73639107e+01,  1.12948400e+01,  3.78990685e+01,  6.08802296e+01,\n",
       "         2.50569533e+01,  2.16581476e+01,  7.30424491e+00,  7.93429437e+01,\n",
       "         7.54679243e+01,  6.86770753e+01,  8.02208857e+01, -8.37992376e+01,\n",
       "         1.60797586e+01, -1.01114673e+00,  4.87956853e+01, -7.37299590e+01,\n",
       "        -1.49097970e+00,  5.27211951e+01, -6.71097458e+00, -4.80959105e+01,\n",
       "         2.66333127e+01,  7.76391043e+01,  4.15769134e+01, -8.03112061e+01,\n",
       "         1.42618714e+02,  6.28947348e+01,  3.82670489e+01,  1.52174178e+00,\n",
       "         3.52222698e+01,  5.41917689e+01,  1.58644136e+01,  7.88251620e+01,\n",
       "        -3.45249840e+01,  2.25153659e+01, -5.04122757e+00,  3.80933583e+01,\n",
       "         3.32915337e+01, -6.18625490e+01,  3.04913305e+01,  7.17937690e+00,\n",
       "        -8.12028419e+01, -1.07618074e+01,  4.06425133e+01, -1.20407894e+01,\n",
       "        -3.30769452e+01,  4.58610897e+01,  5.55168448e+01, -9.82647577e+00,\n",
       "        -1.41730357e+01, -2.03213271e+01, -1.00788483e+00, -5.51866858e+01,\n",
       "         3.75045716e+01,  5.75232852e+01,  3.05201337e+01, -1.27208864e+00,\n",
       "         2.11668423e+01, -1.59989689e+01,  7.18218331e+00,  4.22149624e+01,\n",
       "        -2.15431249e+01, -6.82684307e+01,  5.08970041e+01, -7.99744514e+01,\n",
       "         1.76628833e+01,  6.56227352e+01, -3.94726901e+01,  5.35839406e+01,\n",
       "         1.75393926e+01, -2.27034864e+01,  1.39010588e+02,  1.84379144e+01,\n",
       "        -7.23171904e+00, -2.46289951e+00, -2.98834166e+00,  2.29749419e+01,\n",
       "         9.22725255e+01, -9.36680009e+00, -6.57333278e+00,  8.12473494e+01,\n",
       "        -3.19519540e+01,  1.62597342e-01,  2.69477155e+01, -5.68324988e+01,\n",
       "        -5.02305878e+01,  1.47238537e+01,  3.00296841e+01,  2.26582313e+01,\n",
       "         3.24812897e+01, -6.89739841e+01, -1.96136900e+01,  3.41033537e+01,\n",
       "         3.05280937e+01,  1.81050234e+00,  1.40890203e+01,  4.17978847e+01,\n",
       "        -8.00408996e+00,  7.23148426e+01,  6.22480184e+01, -3.61442115e+00,\n",
       "         2.76017216e+01,  6.12161823e+01, -1.85928322e+01,  4.96758583e+00,\n",
       "         2.63097968e+01, -2.27312634e+01,  8.14631929e+01,  1.13747356e+02,\n",
       "         1.96525718e+01,  1.44175025e+02, -4.79810322e+00,  2.96207061e+01,\n",
       "        -2.10943001e+00,  7.04551711e+01,  8.92404922e+01,  3.22659071e+01,\n",
       "         5.41962897e+00,  2.59756501e+01, -4.91102740e+00,  4.23000908e+01,\n",
       "        -2.53953850e+01,  6.86948800e+01, -4.65129783e+01,  3.58805974e+00,\n",
       "         2.92721786e+01,  5.19710352e+01, -2.92912117e+01, -7.18633392e+01,\n",
       "        -6.68098734e+01,  9.38631595e+01,  6.64610311e+01, -1.29078086e+02,\n",
       "         4.91718833e+01,  3.42819239e+01, -3.69379966e+01, -7.39043320e+01,\n",
       "         4.74978127e+01, -1.10905844e+02,  7.54488953e+01,  1.39126297e+01,\n",
       "        -1.03349666e+01,  2.18631257e+00,  8.22607476e+01,  5.49958447e+01,\n",
       "        -1.46109730e+01,  2.04172814e+01, -9.20862956e+01,  3.96519331e+01,\n",
       "         4.58223605e+01,  7.57902918e+01, -2.59685203e+01,  1.18397439e+02,\n",
       "        -2.02359911e+01, -3.21862844e+01,  5.37668282e+01,  4.79061545e+01,\n",
       "        -3.32133389e+00,  1.31428267e+02, -5.10270758e+00,  8.42419861e+01,\n",
       "         1.22567998e+01, -4.98478540e+01,  1.76102127e+01,  2.62396481e+01,\n",
       "        -7.29352083e+01, -3.03324310e+01,  3.40181245e+01, -3.03663770e+01,\n",
       "         8.63867241e+01, -7.33839918e+01,  1.48123013e+01, -5.86842428e+01,\n",
       "         8.64608483e+01,  7.18197956e+01,  1.35747869e+02, -5.61090060e+01,\n",
       "        -7.99333534e+01, -3.26809727e+00, -1.46605140e+00, -1.86792858e+01,\n",
       "         1.71495063e+01, -5.05232387e+01, -2.07131762e+01, -1.78325737e+00,\n",
       "         4.74931521e+01, -7.27591470e+01,  6.34778629e+01,  5.38111064e+01,\n",
       "         4.42104822e+01,  4.90004077e+01, -1.30374096e+01,  1.74064539e+01,\n",
       "        -2.26088943e+01,  8.35938435e+01,  1.77755267e-01, -1.61508284e+01,\n",
       "         1.07300850e+02,  4.64517035e+00,  5.18918917e+01,  1.72102206e+01,\n",
       "        -3.83929196e+01,  5.23895056e+01, -2.42646183e+01, -2.91547462e+01,\n",
       "         9.86082991e+01,  1.86027231e+01,  2.75061349e+01,  6.01279472e+01,\n",
       "         6.50130220e+01, -8.93519098e+01, -1.63734214e+01,  9.68015284e+01,\n",
       "         1.49474676e+01,  7.83519271e+01,  4.83549071e+01, -4.86937263e+01,\n",
       "        -8.85405513e+00, -3.36947380e+01,  2.24075807e+01, -3.30812399e+01,\n",
       "        -4.05018313e+01,  1.01094950e+00,  4.44840207e+01, -1.05920259e+02,\n",
       "        -7.63192258e+01, -2.37348184e+01, -9.08159860e-02,  2.03693526e+00,\n",
       "        -3.40869778e+01, -1.25372688e-01, -8.08317591e+01,  3.31444190e+01,\n",
       "        -1.68955749e+00, -3.28118918e+01,  1.72134840e+01,  1.73696013e+01,\n",
       "        -7.03147616e+01,  5.32211126e+01,  8.08277251e+01,  2.75977803e+01,\n",
       "        -3.27418612e+01,  1.63500794e+01,  1.00475486e+01,  2.12605659e+01,\n",
       "         5.53240855e+01, -1.20134463e+01,  1.26158208e+02,  6.31714765e+01,\n",
       "         7.44477631e+01,  5.55362095e+01,  9.21792058e+01,  1.01613495e+02,\n",
       "        -1.55837689e+00,  8.99552922e+01, -2.85950642e+01, -5.54514314e+01,\n",
       "         5.15236913e+01, -7.29673092e+01,  3.78377261e+01, -4.50886462e+01,\n",
       "         1.07225339e+02,  4.95716402e+01,  2.26860209e+01, -6.62698993e+01,\n",
       "         7.57204624e+00,  2.53320762e+01,  6.31522567e+01, -3.38037434e+01,\n",
       "         1.99982872e+01, -3.82313053e+01,  7.55236200e+01, -1.96878059e+00,\n",
       "         6.34140810e+01, -2.34910603e+01, -3.70824271e+01, -3.45706634e+01,\n",
       "        -6.07527021e+01, -1.10503591e+01,  1.12531549e+02,  1.10659612e+02,\n",
       "        -5.67726974e+00, -2.33320225e+00, -6.68171093e+01, -6.42541370e+00,\n",
       "         3.44014342e+01,  1.02788001e+02, -2.78352614e+01,  3.14604449e+01,\n",
       "         1.19043732e+01,  8.05993586e+01,  7.33532394e+01, -2.79836626e+01,\n",
       "         2.51691025e+01,  2.35980525e+01, -5.69569711e+01, -5.98808095e+01,\n",
       "         4.38479118e+01,  5.80145652e+01,  5.07476154e+01, -7.82913504e+01,\n",
       "        -1.91300004e+01,  8.05838557e+01, -1.94419807e+01,  3.88483564e+01,\n",
       "        -4.13249143e+01,  1.15659943e+02,  1.91712450e+01,  3.06214058e+01,\n",
       "         5.45154938e+01,  4.27281368e+01, -2.39398810e+01, -6.92293250e+00,\n",
       "         2.59745469e+01, -8.99210042e+01,  4.24259898e+01,  6.46234474e+01,\n",
       "         1.57285822e+00,  8.18190857e+01, -9.84911757e+01,  2.84690308e+01,\n",
       "         2.44400223e+01,  7.42010623e+01,  4.43309813e+01, -1.50193538e+01,\n",
       "         1.25630028e+02,  1.09815538e+02,  3.49363427e+01,  2.41987360e+01,\n",
       "         2.14524848e+01, -8.07158546e+00,  5.14628842e+01, -1.23905353e+01,\n",
       "        -3.20558950e+01,  1.94765079e+01,  2.21812612e+01, -1.29644985e+02,\n",
       "        -8.82285996e+00,  2.33285149e+01,  2.43965479e+01, -4.54651141e+01,\n",
       "         3.76849125e+01,  2.12358793e+01,  2.10292040e+01, -3.44447115e+00,\n",
       "        -3.98476315e+01, -2.81108784e+01, -2.36418493e+01, -3.65530838e+01,\n",
       "        -6.44798392e+01,  5.82131633e+00,  5.56859130e+01,  3.47439228e+01,\n",
       "         1.03915319e+00,  2.15757728e+01,  2.15366338e+01, -2.74494774e+01,\n",
       "        -5.29394232e+01, -3.99126087e+01,  1.03062954e+02,  2.22409726e+01,\n",
       "         3.65137700e+01, -3.12812030e+01,  8.05434458e+01, -2.08506816e+01,\n",
       "        -1.55541972e+01,  1.86359148e+01,  2.87335293e+01, -7.36799676e+00,\n",
       "         3.70198736e+01,  1.25941920e+01, -2.75241280e+01, -4.76022571e+01,\n",
       "         2.26337592e+01,  8.87491402e+00,  3.18384660e+01, -3.53688226e+01,\n",
       "         4.36975573e+01, -2.58756296e+00,  1.97270137e+01,  2.00970235e+01,\n",
       "         3.61150758e+01, -1.59252438e+01,  9.29203956e+01,  4.44709185e+01,\n",
       "        -3.54338449e+01,  6.64964266e+01,  9.10026347e+01,  3.32491570e+01,\n",
       "         7.75403726e+01,  9.05305128e+01,  2.13784070e+00, -7.38992814e+01,\n",
       "        -6.93783688e+00,  5.68682945e+01, -2.56315716e+01, -3.40548625e+01,\n",
       "         1.15838233e+01,  6.33288282e+01, -2.08162089e+00, -8.18189458e+01,\n",
       "         6.76213869e-01, -3.81534578e+00,  9.38129603e+01, -2.23156045e+01,\n",
       "        -1.05363850e+00, -8.83316835e+00,  5.92800193e+01, -2.16730178e+01,\n",
       "        -6.91908089e+01,  6.20536164e+00,  2.32156209e+01,  1.37112700e+02,\n",
       "         2.73301082e+01, -1.14545545e+01,  3.31452083e+01,  5.10535533e+01,\n",
       "        -2.87825193e+01, -2.58340991e+01,  3.01858239e+01,  3.74565809e+01,\n",
       "        -4.40711545e+00,  1.73255805e+01,  3.40743543e+01,  1.01686689e+02,\n",
       "        -1.64497445e+00,  5.38999810e+01,  7.31759701e+01,  4.69947361e+00,\n",
       "        -2.26654893e+01,  1.52765175e+01,  3.69266941e+00,  1.15086415e+01,\n",
       "         2.81692136e+01,  5.58989530e+01,  4.70829372e+01,  2.46101783e+01,\n",
       "         8.63662069e+00,  4.49986023e+01,  1.44351769e+01,  7.50622232e+01,\n",
       "         5.13499056e+01,  2.41073638e+01,  1.19962716e+02, -1.37490154e+01,\n",
       "        -2.34012115e+01, -4.49320705e+01, -6.15183474e+01, -6.60251440e+01,\n",
       "        -2.69681874e+01,  3.68009830e+01, -5.12559236e+00, -2.12262609e+01,\n",
       "        -2.14129196e+01,  9.37058806e+01,  3.08355515e+01,  3.54208726e+00,\n",
       "        -8.83021429e+00, -5.85366065e-01, -1.33273453e+01, -1.06075315e+02,\n",
       "         1.97307949e+01, -6.73574032e+00, -6.28967684e+01, -4.57572864e+01,\n",
       "         5.95971983e+01, -2.19769538e+01,  5.45251664e+01,  2.09449195e+01,\n",
       "        -5.95379829e+01,  7.72588375e+01,  1.96865166e+01, -1.16620645e+01,\n",
       "         6.89806160e+01,  8.27931418e+01,  1.17537465e+01,  6.78447075e+00,\n",
       "         9.05053800e+01,  6.56530158e+01,  2.79481936e+01,  1.00184248e+02,\n",
       "        -7.71080684e+00,  1.62499694e+01,  7.96222840e+01,  8.87636583e+01,\n",
       "         4.89027080e+01,  1.84962264e+01,  4.67730264e+01, -1.67138826e+00,\n",
       "         1.93130544e+01,  1.41624987e+01,  4.55164416e+01,  6.51559667e+01,\n",
       "        -4.12989729e+01,  1.17906600e+02,  5.28483126e+01,  2.80958829e+01,\n",
       "         3.28688815e+01,  1.00163925e+02, -1.92649042e+01, -2.16459196e+01,\n",
       "         5.89290880e+01,  3.29478494e+01,  8.48799883e+01,  1.80289866e+01,\n",
       "         7.67197447e+01, -4.89753714e+01, -6.35394520e+01, -8.72267053e+01,\n",
       "         2.66211927e+01,  3.17271119e+01, -7.13152307e+01,  3.12125887e+01,\n",
       "         8.34137063e+01, -4.87132046e+01, -2.30491335e+01,  4.81196797e+01,\n",
       "         1.56063155e+02,  5.17499939e+01, -6.77166000e+01, -1.17679313e+01,\n",
       "         6.16015448e+01, -3.05931838e+01,  1.87171797e+01,  5.93260346e+01,\n",
       "         5.61536049e+01, -1.40461719e+01,  1.41842612e+01,  7.90720723e+01,\n",
       "        -5.12422038e+00,  5.88336933e+00,  4.06155225e+01,  2.31347351e+01,\n",
       "         5.30711867e+01, -6.35861935e+01,  2.31800573e+01,  2.99146683e+01,\n",
       "         4.38025019e+01,  2.87469503e+01,  3.35400973e+01, -5.35004162e+01,\n",
       "         3.51921918e+01,  1.03649819e+01,  7.17161588e+01, -8.18271887e+01,\n",
       "         1.00026921e+02,  1.35285629e+01,  1.78985112e+01, -6.56191879e+01,\n",
       "         1.25209748e+01, -1.42129919e+00, -6.87900489e+01, -3.46780847e+01,\n",
       "        -5.27538628e+01,  1.63884868e+02, -1.96619320e+01, -5.94670128e+01,\n",
       "         4.93327076e-01, -9.11354667e+01,  9.79774318e+01,  1.27020026e+02,\n",
       "        -9.47009367e+00, -1.86482273e+01, -4.96740167e+01, -1.79862548e+00,\n",
       "         2.15563694e+01, -1.59725978e+01, -1.40206016e+00,  1.70005736e+01,\n",
       "         9.15177083e+00,  2.63188004e+01,  4.43606733e+01, -7.15701958e+00,\n",
       "         6.24615144e+01,  5.37126739e+01,  7.65173432e+00,  9.18226341e+01,\n",
       "         6.77407416e+01, -5.31319580e+01,  5.63246522e+01,  3.08719236e+01,\n",
       "        -1.41482697e+01, -4.31192786e+01, -6.66754138e+01, -1.06431621e+02,\n",
       "         2.95507499e+01,  2.37285473e+01, -1.72423252e+01,  6.89715931e+01,\n",
       "        -4.11255779e+01,  1.33465653e+01, -3.86742478e+01, -1.38237854e+01,\n",
       "         3.20310621e+01, -1.09942941e+02,  1.07501342e+02,  4.18207210e+01,\n",
       "        -6.23991798e+01, -2.62295764e+01,  6.25781696e+01,  5.80903537e+00,\n",
       "         1.76497356e+01,  2.06468022e+01, -7.87856247e+01, -1.41675852e+01,\n",
       "         8.93072190e+01,  2.86411773e+01, -8.45640893e+01,  9.32789973e+01,\n",
       "         6.75451700e+01, -5.98430032e+01,  8.75614966e+01,  7.26722710e+01,\n",
       "        -1.10748124e+02,  4.00041461e+01,  4.08112073e+01,  9.01267159e+01,\n",
       "         2.03134977e+00, -4.50187314e-01,  3.17918072e+01,  9.61606983e+01,\n",
       "        -4.12829173e+01, -5.53809503e+01, -3.13642878e+01, -2.00223085e+01,\n",
       "         3.43404692e+01,  3.92369605e+01,  5.36937185e+01,  8.85380712e+01,\n",
       "         2.91320384e+01,  2.54903682e+01,  1.73488752e+01,  2.38289321e+01,\n",
       "         6.90434470e+01,  2.63152602e+01,  7.63814022e+00, -4.77665964e+01,\n",
       "        -6.06490240e+01, -7.31410212e+01,  5.64178413e+01,  2.85842428e+01,\n",
       "        -5.08369256e-02,  4.42409638e+01,  1.09184903e+02,  2.38970973e+01,\n",
       "         2.44683641e+01,  6.67693384e+01,  4.68862315e+01, -4.10442974e+01,\n",
       "        -3.87854059e+01,  2.71735384e+01,  7.95284752e+01, -2.56606104e+01,\n",
       "        -5.99733464e+00,  1.39667554e+01,  1.18145859e+01,  1.57496226e+01,\n",
       "        -5.70373542e+01, -3.06099841e+01, -1.47921375e+01, -5.74712193e+01,\n",
       "        -1.09863619e+01,  2.91601662e+01, -2.64152216e+01,  4.13407288e+01,\n",
       "         1.25891244e+01,  7.11479389e+01,  5.90383380e+01,  1.68209968e+00,\n",
       "         7.16377832e+01, -4.89553327e+01,  8.33327022e+01,  4.57681641e+01,\n",
       "         4.63544550e+00, -5.41847025e+00, -4.73343447e+01,  5.13006928e+01,\n",
       "         3.13459109e+01,  1.10013578e+02, -2.92763742e+01, -3.10204714e+00,\n",
       "         3.42945059e+01,  1.27614346e+02, -1.73098937e+01,  1.58826542e+01,\n",
       "         1.67887508e+00, -1.39205140e+01,  6.01179393e+01,  5.46308587e+01,\n",
       "         5.52855717e+01,  1.08673032e+02, -3.53508319e+01,  6.45217970e+01,\n",
       "         7.91809765e+01,  5.80553029e+01, -8.33300346e+01,  5.88755607e+01,\n",
       "         2.67704726e+00, -1.96711442e+01, -2.26502290e+01,  1.61125699e+01,\n",
       "         7.39307101e+01,  4.74326777e+01,  3.25092117e+01,  5.75306633e+00,\n",
       "        -2.15838454e+01,  1.44901164e+01, -1.80130537e+02,  6.39874409e+01,\n",
       "         1.81829816e+01,  6.52647279e+01,  3.24154010e+01,  6.52925389e+01,\n",
       "         5.82817073e+01,  1.14523161e+02, -2.04240447e+01,  8.67304795e+01,\n",
       "         1.01272730e+02,  8.50992177e+01,  2.91252546e+01, -3.64260294e+01,\n",
       "        -2.17008574e+01, -6.02859611e+01,  2.88011615e+01, -3.04477126e+01,\n",
       "         4.70408736e+01,  1.64261570e+01, -7.83268947e+00,  1.26880480e+01,\n",
       "        -6.38617105e+01,  1.79228776e+01,  4.83093739e+01,  5.91799548e+01,\n",
       "         8.76822508e+01,  2.27929124e+00,  1.64592072e+01,  3.40302940e+01,\n",
       "         2.85785366e+01, -1.86802160e-02,  3.51377673e+01, -4.14541660e+01,\n",
       "        -2.32427678e+01,  4.47598509e+01,  3.18723692e+01, -7.92793115e+01,\n",
       "         6.83462559e+00, -6.88907421e+00, -2.97604543e+01, -4.25503694e+00,\n",
       "         5.20855141e+01,  2.86443036e+00,  2.76257084e+01,  2.32900172e+00,\n",
       "        -8.15178905e+01, -4.75936560e+01,  4.73135249e+00, -1.33513461e+01,\n",
       "         4.99000193e+01,  2.99804908e+01,  4.08116936e+00, -3.53855224e+00,\n",
       "         2.73860452e+01, -3.11382719e+01,  6.35678293e+01,  2.25465859e+01,\n",
       "         1.38191603e+02, -1.06176230e+01, -3.12760706e+01,  1.50571574e+01,\n",
       "         6.64528482e+01,  3.56911853e+01, -7.75553928e+01, -6.03796831e+00,\n",
       "         1.07884220e+02, -6.06287360e+01,  1.82469601e+01, -5.74838439e+01,\n",
       "         4.45585209e+01,  7.18621148e+00,  1.63530898e+01,  4.11366340e+01,\n",
       "        -7.19690103e+01,  1.45627189e+01, -3.39125568e+01,  5.15527482e+01,\n",
       "         5.65802994e+00, -2.46991513e+01, -3.41212704e+01,  8.40406839e+01,\n",
       "         7.32299311e+01,  8.34641656e+00,  1.24648313e+01, -1.77422286e+01,\n",
       "        -1.71745177e+01, -5.01512678e+00, -2.63259173e+01, -8.11652336e+01,\n",
       "         1.24606034e+01,  4.04429626e+01,  1.51808195e+01, -5.73703342e+00,\n",
       "         1.83237438e+01, -7.89492619e+01, -4.16895313e+01, -8.85350509e+01,\n",
       "         5.25429291e+01, -5.84059706e+00,  3.10009633e+01,  4.52060912e+01,\n",
       "         2.28490066e+01,  6.42491178e+01, -3.90818959e+01, -9.86047469e+00,\n",
       "         4.54591758e+01,  1.48295538e+01, -4.36770083e+01, -9.95834355e+00,\n",
       "         2.66776317e+01, -4.20111459e+01,  1.00645006e+02,  9.63315162e+00,\n",
       "        -3.68569989e+01,  1.84920446e+01, -1.31863109e+01, -1.03860696e+02,\n",
       "         1.32232411e+01, -1.80409136e+01, -6.86649044e+01,  6.84395342e+01,\n",
       "        -6.68716960e+01,  8.38047630e+01,  7.80557219e+01, -6.07531735e-01,\n",
       "        -6.15224633e+01, -2.15274635e+00,  3.21358540e+01, -1.67618480e+01]))"
      ]
     },
     "execution_count": 6,
     "metadata": {},
     "output_type": "execute_result"
    }
   ],
   "source": [
    "# your code here\n",
    "from scipy.stats import norm\n",
    "\n",
    "# norm.pdf(x, mu, sigma)\n",
    "\n",
    "def generate_normal(mean,std,size):\n",
    "    x = norm.rvs(size=size)\n",
    "    randoms = mean + std*x\n",
    "    return randoms\n",
    "\n",
    "n1 = generate_normal(10,1,1000)\n",
    "n2 = generate_normal(10,50,1000)\n",
    "\n",
    "n1,n2"
   ]
  },
  {
   "cell_type": "code",
   "execution_count": 7,
   "metadata": {},
   "outputs": [
    {
     "data": {
      "text/plain": [
       "<Axes: ylabel='Count'>"
      ]
     },
     "execution_count": 7,
     "metadata": {},
     "output_type": "execute_result"
    },
    {
     "data": {
      "image/png": "[encoded data removed]",
      "text/plain": [
       "<Figure size 640x480 with 1 Axes>"
      ]
     },
     "metadata": {},
     "output_type": "display_data"
    }
   ],
   "source": [
    "sns.histplot(n1)\n"
   ]
  },
  {
   "cell_type": "code",
   "execution_count": 8,
   "metadata": {},
   "outputs": [
    {
     "data": {
      "text/plain": [
       "<Axes: ylabel='Count'>"
      ]
     },
     "execution_count": 8,
     "metadata": {},
     "output_type": "execute_result"
    },
    {
     "data": {
      "image/png": "[encoded data removed]",
      "text/plain": [
       "<Figure size 640x480 with 1 Axes>"
      ]
     },
     "metadata": {},
     "output_type": "display_data"
    }
   ],
   "source": [
    "sns.histplot(n2)"
   ]
  },
  {
   "cell_type": "markdown",
   "metadata": {},
   "source": [
    "How are the two distributions different?"
   ]
  },
  {
   "cell_type": "code",
   "execution_count": 9,
   "metadata": {},
   "outputs": [],
   "source": [
    "# your answer below\n",
    "\n"
   ]
  },
  {
   "cell_type": "markdown",
   "metadata": {},
   "source": [
    "La primera gráfica es una distribución normal con media 10 y desviación estándar 1, mientras que la segunda es una distribución normal con media 10 y desviación estándar 50. La primera gráfica es más estrecha y la segunda es más ancha."
   ]
  },
  {
   "cell_type": "markdown",
   "metadata": {},
   "source": [
    "## Normal Distribution of Real Data\n",
    "\n",
    "In this challenge we are going to take a look the real data. We will use vehicles.csv file for this exercise"
   ]
  },
  {
   "cell_type": "markdown",
   "metadata": {},
   "source": [
    "First import vehicles.csv.\n",
    "Then plot the histograms for the following variables:\n",
    "\n",
    "1. Fuel Barrels/Year"
   ]
  },
  {
   "cell_type": "code",
   "execution_count": 10,
   "metadata": {},
   "outputs": [
    {
     "data": {
      "text/plain": [
       "<Axes: xlabel='Fuel Barrels/Year', ylabel='Count'>"
      ]
     },
     "execution_count": 10,
     "metadata": {},
     "output_type": "execute_result"
    },
    {
     "data": {
      "image/png": "[encoded data removed]",
      "text/plain": [
       "<Figure size 640x480 with 1 Axes>"
      ]
     },
     "metadata": {},
     "output_type": "display_data"
    }
   ],
   "source": [
    "# your code here\n",
    "\n",
    "# importar el csv vehicles\n",
    "\n",
    "import pandas as pd\n",
    "\n",
    "df = pd.read_csv('vehicles.csv')\n",
    "\n",
    "df.head()\n",
    "\n",
    "# crear un histograma con seaborn de los Fuel Barrels/Year\n",
    "\n",
    "sns.histplot(df['Fuel Barrels/Year'])"
   ]
  },
  {
   "cell_type": "markdown",
   "metadata": {},
   "source": [
    "2. CO2 Emission Grams/Mile "
   ]
  },
  {
   "cell_type": "code",
   "execution_count": 11,
   "metadata": {},
   "outputs": [
    {
     "data": {
      "text/plain": [
       "<Axes: xlabel='CO2 Emission Grams/Mile', ylabel='Count'>"
      ]
     },
     "execution_count": 11,
     "metadata": {},
     "output_type": "execute_result"
    },
    {
     "data": {
      "image/png": "[encoded data removed]",
      "text/plain": [
       "<Figure size 640x480 with 1 Axes>"
      ]
     },
     "metadata": {},
     "output_type": "display_data"
    }
   ],
   "source": [
    "# your code here\n",
    "\n",
    "sns.histplot(df['CO2 Emission Grams/Mile'])"
   ]
  },
  {
   "cell_type": "markdown",
   "metadata": {},
   "source": [
    "3. Combined MPG"
   ]
  },
  {
   "cell_type": "code",
   "execution_count": 12,
   "metadata": {},
   "outputs": [
    {
     "data": {
      "text/plain": [
       "<Axes: xlabel='Combined MPG', ylabel='Count'>"
      ]
     },
     "execution_count": 12,
     "metadata": {},
     "output_type": "execute_result"
    },
    {
     "data": {
      "image/png": "[encoded data removed]",
      "text/plain": [
       "<Figure size 640x480 with 1 Axes>"
      ]
     },
     "metadata": {},
     "output_type": "display_data"
    }
   ],
   "source": [
    "# your code here\n",
    "\n",
    "sns.histplot(df['Combined MPG'])"
   ]
  },
  {
   "cell_type": "markdown",
   "metadata": {},
   "source": [
    "Which one(s) of the variables are nearly normally distributed? How do you know?"
   ]
  },
  {
   "cell_type": "code",
   "execution_count": 13,
   "metadata": {},
   "outputs": [],
   "source": [
    "# your answer here"
   ]
  },
  {
   "cell_type": "markdown",
   "metadata": {},
   "source": [
    "Sin hacer un test de normalidad no se puede saber si una distribución es normal o no, pero por su apariencia, la distribución de Fuel Barrels/Year y CO2 Emission Grams/Mile parecen una campana de Gauss, la de Combined MPG tiene una cola más alargada."
   ]
  },
  {
   "cell_type": "markdown",
   "metadata": {},
   "source": [
    "## Exponential Distribution"
   ]
  },
  {
   "cell_type": "markdown",
   "metadata": {},
   "source": [
    "1. Using `numpy.random.exponential`, create a function that returns a list of numbers exponentially distributed with the mean of 10. \n",
    "\n",
    "1. Use the function to generate two number sequences with the size of 10 and 100.\n",
    "\n",
    "1. Plot the distributions as histograms with the nubmer of bins as 100.\n",
    "\n",
    "Your output should look like below:\n",
    "\n",
    "![exponential distribution](ed.png)"
   ]
  },
  {
   "cell_type": "code",
   "execution_count": 14,
   "metadata": {},
   "outputs": [
    {
     "data": {
      "text/plain": [
       "<Axes: ylabel='Count'>"
      ]
     },
     "execution_count": 14,
     "metadata": {},
     "output_type": "execute_result"
    },
    {
     "data": {
      "image/png": "[encoded data removed]",
      "text/plain": [
       "<Figure size 640x480 with 1 Axes>"
      ]
     },
     "metadata": {},
     "output_type": "display_data"
    }
   ],
   "source": [
    "# your code here\n",
    "\n",
    "def generate_exponential(mean,size):\n",
    "\n",
    "    return np.random.exponential(mean, size)\n",
    "\n",
    "e1 = generate_exponential(10,10)\n",
    "e1\n",
    "\n",
    "sns.histplot(e1, bins=100)"
   ]
  },
  {
   "cell_type": "code",
   "execution_count": 15,
   "metadata": {},
   "outputs": [
    {
     "data": {
      "text/plain": [
       "<Axes: ylabel='Count'>"
      ]
     },
     "execution_count": 15,
     "metadata": {},
     "output_type": "execute_result"
    },
    {
     "data": {
      "image/png": "[encoded data removed]",
      "text/plain": [
       "<Figure size 640x480 with 1 Axes>"
      ]
     },
     "metadata": {},
     "output_type": "display_data"
    }
   ],
   "source": [
    "e2 = generate_exponential(10,100)\n",
    "\n",
    "sns.histplot(e2, bins=100)"
   ]
  },
  {
   "cell_type": "markdown",
   "metadata": {},
   "source": [
    "How are the two distributions different?"
   ]
  },
  {
   "cell_type": "code",
   "execution_count": 16,
   "metadata": {},
   "outputs": [],
   "source": [
    "# your answer here"
   ]
  },
  {
   "cell_type": "markdown",
   "metadata": {},
   "source": [
    "\n",
    "La distribución depende en gran medida del tamaño de la muestra. La curva tiene sentido cuanto mayor sea el tamaño de la muestra."
   ]
  },
  {
   "cell_type": "markdown",
   "metadata": {},
   "source": [
    "## Exponential Distribution of Real Data\n",
    "\n",
    "Suppose that the amount of time one spends in a bank is exponentially distributed with mean as 10 minutes (i.e. λ = 1/10). What is the probability that a customer will spend less than fifteen minutes in the bank? \n",
    "\n",
    "Write a code in python to solve this problem"
   ]
  },
  {
   "cell_type": "code",
   "execution_count": 20,
   "metadata": {},
   "outputs": [
    {
     "data": {
      "text/plain": [
       "0.7768698398515702"
      ]
     },
     "execution_count": 20,
     "metadata": {},
     "output_type": "execute_result"
    }
   ],
   "source": [
    "# your answer here\n",
    "# Hint: This is same as saying P(x<15)\n",
    "\n",
    "from scipy.stats import expon\n",
    "\n",
    "p = 1/10\n",
    "exp = expon(scale=1/p)\n",
    "exp.cdf(15)  "
   ]
  },
  {
   "cell_type": "markdown",
   "metadata": {},
   "source": [
    "What is the probability that the customer will spend more than 15 minutes"
   ]
  },
  {
   "cell_type": "code",
   "execution_count": 21,
   "metadata": {},
   "outputs": [
    {
     "data": {
      "text/plain": [
       "0.2231301601484298"
      ]
     },
     "execution_count": 21,
     "metadata": {},
     "output_type": "execute_result"
    }
   ],
   "source": [
    "# your answer here\n",
    "1 - exp.cdf(15)"
   ]
  }
 ],
 "metadata": {
  "kernelspec": {
   "display_name": "Python 3",
   "language": "python",
   "name": "python3"
  },
  "language_info": {
   "codemirror_mode": {
    "name": "ipython",
    "version": 3
   },
   "file_extension": ".py",
   "mimetype": "text/x-python",
   "name": "python",
   "nbconvert_exporter": "python",
   "pygments_lexer": "ipython3",
   "version": "3.10.9"
  },
  "toc": {
   "base_numbering": 1,
   "nav_menu": {},
   "number_sections": true,
   "sideBar": true,
   "skip_h1_title": false,
   "title_cell": "Table of Contents",
   "title_sidebar": "Contents",
   "toc_cell": true,
   "toc_position": {},
   "toc_section_display": true,
   "toc_window_display": false
  },
  "varInspector": {
   "cols": {
    "lenName": 16,
    "lenType": 16,
    "lenVar": 40
   },
   "kernels_config": {
    "python": {
     "delete_cmd_postfix": "",
     "delete_cmd_prefix": "del ",
     "library": "var_list.py",
     "varRefreshCmd": "print(var_dic_list())"
    },
    "r": {
     "delete_cmd_postfix": ") ",
     "delete_cmd_prefix": "rm(",
     "library": "var_list.r",
     "varRefreshCmd": "cat(var_dic_list()) "
    }
   },
   "types_to_exclude": [
    "module",
    "function",
    "builtin_function_or_method",
    "instance",
    "_Feature"
   ],
   "window_display": false
  }
 },
 "nbformat": 4,
 "nbformat_minor": 2
}
