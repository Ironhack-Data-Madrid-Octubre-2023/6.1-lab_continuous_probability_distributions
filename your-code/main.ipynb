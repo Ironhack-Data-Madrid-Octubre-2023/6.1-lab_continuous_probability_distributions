{
 "cells": [
  {
   "cell_type": "markdown",
   "metadata": {
    "toc": true
   },
   "source": [
    "<h1>Table of Contents<span class=\"tocSkip\"></span></h1>\n",
    "<div class=\"toc\"><ul class=\"toc-item\"><li><span><a href=\"#Before-your-start:\" data-toc-modified-id=\"Before-your-start:-1\"><span class=\"toc-item-num\">1&nbsp;&nbsp;</span>Before your start:</a></span><ul class=\"toc-item\"><li><span><a href=\"#Uniform-Distribution\" data-toc-modified-id=\"Uniform-Distribution-1.1\"><span class=\"toc-item-num\">1.1&nbsp;&nbsp;</span>Uniform Distribution</a></span></li><li><span><a href=\"#Normal-Distribution\" data-toc-modified-id=\"Normal-Distribution-1.2\"><span class=\"toc-item-num\">1.2&nbsp;&nbsp;</span>Normal Distribution</a></span></li><li><span><a href=\"#Normal-Distribution-of-Real-Data\" data-toc-modified-id=\"Normal-Distribution-of-Real-Data-1.3\"><span class=\"toc-item-num\">1.3&nbsp;&nbsp;</span>Normal Distribution of Real Data</a></span></li><li><span><a href=\"#Exponential-Distribution\" data-toc-modified-id=\"Exponential-Distribution-1.4\"><span class=\"toc-item-num\">1.4&nbsp;&nbsp;</span>Exponential Distribution</a></span></li><li><span><a href=\"#Exponential-Distribution-of-Real-Data\" data-toc-modified-id=\"Exponential-Distribution-of-Real-Data-1.5\"><span class=\"toc-item-num\">1.5&nbsp;&nbsp;</span>Exponential Distribution of Real Data</a></span></li></ul></li></ul></div>"
   ]
  },
  {
   "cell_type": "markdown",
   "metadata": {},
   "source": [
    "# Before your start:\n",
    "\n",
    "    Read the README.md file\n",
    "    Comment as much as you can and use the resources (README.md file)\n",
    "    Happy learning!"
   ]
  },
  {
   "cell_type": "markdown",
   "metadata": {},
   "source": [
    "In this exercise, we  will generate random numbers from the continuous disributions we learned in the lesson. There are two ways to generate random numbers:\n",
    "\n",
    "1. Using the numpy library \n",
    "1. using the Scipy library \n",
    "\n",
    "Use either or both of the lbraries in this exercise."
   ]
  },
  {
   "cell_type": "code",
   "execution_count": 1,
   "metadata": {},
   "outputs": [],
   "source": [
    "import numpy as np\n",
    "import pandas as pd\n",
    "import random\n",
    "import pylab as plt\n",
    "import seaborn as sns\n",
    "from scipy.stats import binom\n",
    "from scipy.stats import nbinom\n",
    "from scipy.stats import geom\n",
    "from scipy.stats import randint\n",
    "from scipy.stats import poisson\n",
    "from scipy.stats import uniform\n",
    "from scipy.stats import expon\n",
    "from scipy.stats import norm\n",
    "from scipy.stats import t"
   ]
  },
  {
   "cell_type": "markdown",
   "metadata": {},
   "source": [
    "## Uniform Distribution\n",
    "\n",
    "To generate uniform random numbers between any two given values using scipy, we can either use the following code or the code that we have\n",
    "discussed in class:"
   ]
  },
  {
   "cell_type": "code",
   "execution_count": 2,
   "metadata": {},
   "outputs": [
    {
     "name": "stdout",
     "output_type": "stream",
     "text": [
      "[2.0514192  2.16710081 2.08784321 2.43844727 2.81606956 2.57359649\n",
      " 2.12777968 2.37434886 2.59090011 2.07141108]\n"
     ]
    }
   ],
   "source": [
    "x = uniform.rvs(size=10)\n",
    "a = 2\n",
    "b = 3\n",
    "randoms  = a + (b-a)*x\n",
    "print(randoms)"
   ]
  },
  {
   "cell_type": "markdown",
   "metadata": {},
   "source": [
    "**Your task:**\n",
    "\n",
    "1. Based on the code above, write a function that generates uniformly distributed random numbers. There are several requirements for your function:\n",
    "    * It should accept 3 parameters: \n",
    "        * `bottom` - the lower boundary of the generated numbers\n",
    "        * `ceiling` - the upper boundary of the generated numbers\n",
    "        * `count` - how many numbers to generate\n",
    "    * It should return an array of uniformly distributed random numbers\n",
    "\n",
    "1. Call your function with 2 sets of params below:\n",
    "    * bottom=10, ceiling=15, count=100\n",
    "    * bottom=10, ceiling=60, count=1,000\n",
    "\n",
    "1. Plot the uniform distributions generated above using histograms, where x axis is the value and y axis is the count. Let the histogram's number of bins be 10.\n",
    "\n",
    "Your output should look like below:\n",
    "\n",
    "![uniform distribution](ud.png)"
   ]
  },
  {
   "cell_type": "code",
   "execution_count": null,
   "metadata": {},
   "outputs": [],
   "source": [
    "def random_uni_vals(XXX, YYY, ZZZ):\n",
    "    '''\n",
    "    XXX = count\n",
    "    YYY = ceiling limit\n",
    "    ZZZ = bottom limit\n",
    "    '''\n",
    "    return uniform.rvs(size=XXX, loc=YYY, scale=ZZZ-YYY)"
   ]
  },
  {
   "cell_type": "code",
   "execution_count": 5,
   "metadata": {},
   "outputs": [
    {
     "data": {
      "text/plain": [
       "array([10.34851265, 22.82639335, 22.98539618, 11.35448601, 12.84463211,\n",
       "       22.12409224, 10.47315757, 20.34600472, 21.98060921, 16.27482197,\n",
       "       11.83029929, 16.80179907, 16.19129782, 23.46708898, 16.50845196,\n",
       "       24.15905282, 19.97625013, 15.56408039, 10.21661349, 20.32039622,\n",
       "       22.0945007 , 14.06167433, 10.66790955, 15.94009658, 13.99934324,\n",
       "       14.47430736, 12.11558369, 22.19421715, 13.20860981, 15.91162748,\n",
       "       14.19682687, 20.41077395, 14.34755919, 16.21467734, 23.34622585,\n",
       "       23.04845458, 22.81738607, 12.08971496, 15.22929572, 14.38561208,\n",
       "       15.88617395, 11.77291539, 13.55664554, 15.02046668, 11.7592787 ,\n",
       "       11.28689845, 24.97133829, 24.17055283, 11.74270283, 17.06288791,\n",
       "       12.97821191, 10.78026204, 23.74834525, 24.88470393, 23.98488255,\n",
       "       21.3378038 , 22.2031267 , 13.64160599, 17.80534416, 24.88190908,\n",
       "       22.03825559, 13.91362851, 24.28097499, 14.62744686, 12.5391072 ,\n",
       "       12.58509562, 23.77585518, 23.91932297, 12.96131559, 18.49502084,\n",
       "       18.2970629 , 14.86376182, 20.20999342, 11.68353022, 17.01139495,\n",
       "       15.68987864, 10.94205881, 24.32301991, 18.36975191, 14.42928752,\n",
       "       12.15145868, 17.19566332, 17.35609496, 14.80016655, 11.4882533 ,\n",
       "       12.48977759, 17.54535963, 22.4292151 , 12.32621785, 21.77706311,\n",
       "       24.29737485, 10.36526116, 10.6279893 , 16.70138155, 16.94778205,\n",
       "       19.74601669, 21.60149641, 17.44200091, 24.66203024, 15.25553821])"
      ]
     },
     "execution_count": 5,
     "metadata": {},
     "output_type": "execute_result"
    }
   ],
   "source": [
    "# your code here\n",
    "A = uniform.rvs(loc = 10, scale = 15, size=100)\n",
    "A "
   ]
  },
  {
   "cell_type": "code",
   "execution_count": 6,
   "metadata": {},
   "outputs": [
    {
     "data": {
      "text/plain": [
       "array([32.46323478, 19.9713685 , 12.67816366, 65.56119398, 33.17790808,\n",
       "       67.65369132, 19.41446143, 29.24386014, 67.0017117 , 48.99433973,\n",
       "       11.12392056, 48.96333461, 43.4958037 , 40.39630383, 41.0295697 ,\n",
       "       44.26638189, 31.3901461 , 35.28930514, 46.09595218, 33.57731903,\n",
       "       49.27067597, 54.83722873, 44.17048724, 23.63036725, 66.5521386 ,\n",
       "       17.61312449, 23.37027162, 64.43276696, 31.10202183, 62.6240962 ,\n",
       "       19.85327409, 33.23470741, 33.15925381, 49.75807189, 50.82121554,\n",
       "       20.90916595, 33.20491361, 44.11336621, 11.97532023, 59.31115204,\n",
       "       16.0848843 , 41.45190335, 18.48066039, 19.2429117 , 42.20152374,\n",
       "       26.29242404, 58.63512955, 36.61279408, 17.70950709, 26.11024383,\n",
       "       42.52168477, 19.85392847, 27.26300591, 23.32721715, 65.18487589,\n",
       "       30.63655574, 24.5150881 , 38.44105898, 10.42988707, 19.28824325,\n",
       "       21.08327958, 33.92524945, 45.5684844 , 43.53312085, 44.47566979,\n",
       "       20.78359984, 43.53441318, 22.93217702, 10.19147829, 56.81497012,\n",
       "       26.1922317 , 42.12204685, 18.5781532 , 54.73180079, 59.26013866,\n",
       "       10.3282204 , 68.49845644, 51.90502327, 46.61961031, 67.31337239,\n",
       "       56.52448911, 46.34267937, 21.84804009, 14.47349137, 67.79637391,\n",
       "       44.12372609, 33.33276548, 31.71918784, 36.99773145, 16.87704554,\n",
       "       48.9322106 , 68.57858084, 50.31005067, 29.89532637, 39.12025599,\n",
       "       50.05554142, 46.7750827 , 34.80703819, 58.18146871, 61.35430352,\n",
       "       16.91749526, 68.11094502, 39.74423837, 28.11271164, 29.49267949,\n",
       "       45.49416151, 14.30036873, 56.12022053, 30.60430662, 29.22142455,\n",
       "       35.27452825, 52.34861373, 32.16736988, 34.67888559, 56.86621104,\n",
       "       26.31080215, 66.28735862, 57.09369105, 64.14361495, 32.0403288 ,\n",
       "       67.63215446, 35.18896147, 23.96051576, 26.31588955, 62.95154363,\n",
       "       45.29220245, 11.49399141, 29.84503692, 64.70409484, 44.57473654,\n",
       "       48.94307679, 69.90871732, 67.42024372, 26.75433995, 60.60368743,\n",
       "       45.68123552, 38.11468366, 26.42141806, 51.63771684, 11.18202615,\n",
       "       69.67894476, 69.96495257, 29.18570509, 29.90539891, 34.52120275,\n",
       "       50.0396755 , 50.64956308, 31.9328987 , 49.05509586, 63.73348566,\n",
       "       14.6673232 , 69.55413237, 11.75978717, 30.53750545, 41.90016755,\n",
       "       22.8202103 , 39.47833138, 40.56279779, 27.3675033 , 41.13635095,\n",
       "       30.16490093, 46.07260941, 38.89589502, 59.46054532, 27.55294583,\n",
       "       50.54733552, 37.47468305, 35.46976767, 13.75764523, 47.19445106,\n",
       "       49.34884346, 54.16252252, 58.23429305, 51.93471612, 64.07270216,\n",
       "       60.532216  , 21.829497  , 52.8806539 , 11.16773965, 41.33465413,\n",
       "       32.23761225, 38.48123607, 27.12141259, 30.82203859, 68.83165252,\n",
       "       17.48257475, 22.9597874 , 28.6927808 , 45.59527824, 46.39819066,\n",
       "       15.02366091, 20.9319959 , 28.91299385, 63.95477926, 28.36900243,\n",
       "       23.08206138, 61.41085307, 39.19507455, 12.48826635, 67.09796321,\n",
       "       25.95707458, 41.11025077, 21.94247672, 69.30339819, 44.42867391,\n",
       "       51.96328938, 40.59643725, 19.26153432, 59.06665687, 29.26832156,\n",
       "       57.84547377, 65.42290872, 66.44531877, 12.06850018, 25.15964789,\n",
       "       67.87008392, 53.1672509 , 49.88282722, 46.47464599, 32.53782423,\n",
       "       12.95574789, 45.44892123, 17.37740758, 26.83065423, 63.67716485,\n",
       "       69.54726985, 17.75172267, 28.64437602, 12.06489852, 54.0892226 ,\n",
       "       49.28542383, 27.53215198, 49.3459539 , 56.77296518, 17.7374806 ,\n",
       "       29.84857101, 33.3553049 , 21.14374437, 21.40423809, 21.9840612 ,\n",
       "       19.3326566 , 55.76200682, 31.39283784, 43.53200924, 54.83583189,\n",
       "       67.87124173, 12.59095546, 46.77376599, 62.80876416, 12.18447045,\n",
       "       22.33291066, 54.8141163 , 34.75077725, 30.06195175, 44.45950287,\n",
       "       40.5809019 , 18.13602291, 50.26139843, 40.01314791, 51.73324731,\n",
       "       61.88566422, 36.99276669, 26.94842428, 31.77695552, 42.42203591,\n",
       "       48.28443588, 64.06197158, 49.72910415, 16.76668196, 44.29693636,\n",
       "       63.94684623, 19.81388913, 18.87508739, 13.73822813, 28.68648298,\n",
       "       46.40441722, 43.59595999, 53.25725706, 67.05379713, 32.38133309,\n",
       "       26.24571066, 49.77533095, 56.55550146, 15.13468051, 57.29567145,\n",
       "       39.42211328, 44.9927141 , 30.44242904, 69.10376354, 32.2391536 ,\n",
       "       20.48910731, 65.83260352, 17.59715276, 22.40114353, 65.12428832,\n",
       "       59.74989027, 44.61868126, 42.70204923, 61.79070375, 30.10166824,\n",
       "       41.05310113, 60.65177608, 68.53297738, 30.97817751, 28.87228592,\n",
       "       46.43235826, 53.46838618, 24.39476349, 55.69624576, 58.28022551,\n",
       "       53.1825258 , 53.42619192, 53.58732409, 30.15985937, 56.44472578,\n",
       "       69.47391902, 36.50255739, 50.97073254, 49.93484319, 62.7309813 ,\n",
       "       60.64529064, 63.56172384, 35.87930716, 65.85718434, 41.61660399,\n",
       "       62.00288615, 40.89612057, 25.42750963, 57.74093945, 37.03460132,\n",
       "       36.97990955, 37.1564536 , 66.69371099, 44.33192889, 66.64527788,\n",
       "       36.30627898, 19.37969757, 13.68194988, 40.19504917, 19.89785014,\n",
       "       30.01220977, 38.10419509, 11.37108024, 11.86022282, 44.86854851,\n",
       "       40.89178996, 50.3454442 , 19.54566904, 15.41807927, 58.59412945,\n",
       "       38.23045955, 47.3832988 , 64.17285949, 12.3688169 , 13.80746606,\n",
       "       20.70407874, 38.82706484, 34.67054706, 18.726505  , 22.57583943,\n",
       "       63.28155726, 62.68081721, 12.84190503, 33.28895514, 65.07598721,\n",
       "       25.04815909, 23.52302737, 66.2854977 , 38.54546002, 54.60852672,\n",
       "       32.0082346 , 32.1426297 , 18.89212982, 32.26059061, 62.72512293,\n",
       "       18.09617374, 11.83544374, 64.26442283, 59.48003392, 60.99021009,\n",
       "       24.88631103, 60.67966661, 21.53443254, 33.66140837, 22.8969468 ,\n",
       "       57.38478231, 54.88381735, 64.33299296, 35.31764697, 20.29367719,\n",
       "       13.75465698, 14.99061046, 12.00513459, 13.19147109, 51.42473962,\n",
       "       11.53827653, 59.16345536, 30.65586704, 57.04241862, 14.11050515,\n",
       "       20.62369953, 14.69171905, 21.16562714, 31.20154752, 69.40120566,\n",
       "       36.12222193, 14.895023  , 61.39822885, 22.39563676, 40.25522126,\n",
       "       32.13740901, 10.26543061, 27.89514914, 45.01848642, 32.57539453,\n",
       "       55.02400375, 24.76279228, 29.16161397, 40.54544429, 48.57094254,\n",
       "       57.24766338, 35.50010418, 31.31335785, 23.75919633, 32.77751949,\n",
       "       13.73435409, 54.64552214, 30.02397747, 47.17260303, 35.12288901,\n",
       "       24.4234966 , 25.98520202, 12.64820503, 18.08225115, 19.65215917,\n",
       "       15.35157432, 39.97762741, 52.15853584, 55.46140398, 41.02986927,\n",
       "       69.99146048, 48.94770081, 16.09818855, 60.07789005, 18.93358123,\n",
       "       51.18215538, 25.69712239, 58.75822667, 61.88743053, 15.66288105,\n",
       "       31.76988569, 16.33762544, 44.32156867, 37.34726925, 54.88017441,\n",
       "       58.25906482, 35.87545658, 65.17313731, 69.39822601, 38.25041471,\n",
       "       53.83087894, 50.46425278, 44.65618952, 25.60217293, 19.20020177,\n",
       "       12.26250649, 10.0967666 , 58.07675414, 30.50025308, 48.86557154,\n",
       "       44.59595329, 29.03936095, 43.29997108, 33.27558268, 69.49799173,\n",
       "       30.68727123, 25.49154824, 40.81179796, 32.63423356, 32.74383533,\n",
       "       34.54926643, 11.61471282, 34.86166705, 45.69123223, 28.02684806,\n",
       "       25.85557162, 64.79795619, 46.16383154, 42.35448607, 22.01633166,\n",
       "       22.69884075, 63.59859207, 13.53986176, 27.16439967, 69.39525946,\n",
       "       65.04094108, 38.81684311, 30.27481365, 60.45226497, 61.19124866,\n",
       "       11.85622484, 22.20545303, 36.98433453, 64.73310148, 55.85516821,\n",
       "       69.87314249, 43.07109475, 33.65514114, 48.74535796, 69.46521385,\n",
       "       17.76212902, 53.50124899, 22.62835297, 34.3081172 , 26.36971729,\n",
       "       65.94521998, 52.66182221, 40.31487413, 43.14952511, 65.57660592,\n",
       "       35.77711986, 17.96283505, 35.12521437, 55.19404417, 45.2416822 ,\n",
       "       59.07463991, 36.84176604, 12.2741697 , 64.00742511, 32.5134568 ,\n",
       "       25.65762468, 27.54477067, 50.63797223, 62.41088818, 26.89401569,\n",
       "       56.44711579, 44.97706975, 37.11472294, 50.39422879, 66.38809046,\n",
       "       17.31100974, 26.52908595, 13.00757271, 34.01533526, 66.82368269,\n",
       "       34.40546877, 20.65635311, 30.43137709, 40.59268327, 19.86234005,\n",
       "       20.44923551, 35.26816288, 23.32129852, 51.68924903, 33.64934192,\n",
       "       43.53569418, 13.78545888, 49.18442985, 15.11957717, 19.89169756,\n",
       "       58.85142178, 33.83146255, 50.05282202, 58.41866812, 35.42081113,\n",
       "       69.96871549, 18.96505448, 60.60286224, 37.28545157, 41.53423217,\n",
       "       28.69214556, 24.66615866, 15.53546098, 37.30950526, 60.13274715,\n",
       "       14.39604551, 12.75782295, 40.4020773 , 54.06936026, 63.80178682,\n",
       "       41.90545005, 17.5472175 , 62.17299012, 44.72164489, 34.52923307,\n",
       "       51.99568271, 57.01615969, 51.3203092 , 42.76034576, 34.17949676,\n",
       "       23.01739097, 57.76209043, 56.71857121, 69.75572196, 51.44005284,\n",
       "       19.35036114, 60.31731766, 47.68352482, 16.94484912, 10.02102182,\n",
       "       42.50395015, 20.79364434, 31.46797597, 11.15141609, 11.77866892,\n",
       "       69.95762499, 32.30207394, 54.80931051, 56.16561578, 66.35630173,\n",
       "       18.95534409, 49.16336587, 34.8206694 , 11.74010463, 51.02062629,\n",
       "       24.68611792, 56.06534804, 30.03838233, 51.08273027, 39.2744978 ,\n",
       "       65.87068329, 51.46610325, 22.21314225, 21.83710992, 47.02648465,\n",
       "       24.49842715, 49.55559287, 45.44810805, 65.2040058 , 39.60523818,\n",
       "       57.42709411, 23.08936913, 60.1432673 , 62.71392813, 42.97853711,\n",
       "       58.50754806, 67.23848924, 62.07738224, 56.5587452 , 59.69187326,\n",
       "       27.64322816, 42.17505464, 58.84551591, 50.61808522, 68.02496259,\n",
       "       65.57826766, 69.73399445, 10.49750177, 25.62631478, 28.24109253,\n",
       "       36.3939398 , 59.42983822, 37.51717552, 37.97158731, 35.00406854,\n",
       "       38.24404514, 18.01719128, 42.42784594, 44.80977653, 13.54003382,\n",
       "       66.30533284, 66.03001406, 62.99236067, 27.50380671, 54.87519692,\n",
       "       67.25401575, 56.46332163, 65.48420352, 25.38545296, 29.67692222,\n",
       "       59.85128398, 25.74131431, 55.42026627, 13.94704623, 42.28939317,\n",
       "       67.35139097, 24.51892062, 35.65259862, 34.7293325 , 32.97965174,\n",
       "       40.076644  , 56.12301186, 34.00669739, 56.73101663, 59.81498293,\n",
       "       58.17770164, 47.83861702, 46.80602201, 10.18265527, 26.60887207,\n",
       "       33.83016644, 42.07107495, 27.1158226 , 40.79766585, 58.41150401,\n",
       "       24.37980626, 27.1917507 , 31.45487889, 39.45158745, 37.40807391,\n",
       "       33.21929779, 24.14631612, 68.99421361, 18.70067967, 26.16197629,\n",
       "       36.00519833, 48.21197431, 14.83354806, 38.82239395, 61.27558707,\n",
       "       24.00683392, 54.29058192, 10.06055081, 44.95571812, 46.72432471,\n",
       "       30.70406568, 67.33412773, 39.29687881, 34.96143053, 68.93987267,\n",
       "       59.89014858, 15.80889218, 54.08427523, 50.27677547, 38.68391411,\n",
       "       62.87254347, 12.35554573, 69.00213876, 19.87675805, 34.86737984,\n",
       "       39.66184592, 12.60458788, 35.2529444 , 65.81705874, 22.39153053,\n",
       "       58.8373486 , 49.73538167, 52.15032016, 35.45065145, 39.0738989 ,\n",
       "       46.80210542, 31.34628622, 10.73291203, 60.58146339, 10.58983144,\n",
       "       18.1139689 , 14.8623847 , 48.89874044, 61.29949572, 44.28961781,\n",
       "       48.19776217, 69.25736777, 60.4792001 , 62.12363652, 31.22548357,\n",
       "       67.90945057, 64.77401289, 43.59217546, 30.99284367, 43.09579676,\n",
       "       57.77917192, 56.13769506, 57.91705589, 34.083798  , 23.7930515 ,\n",
       "       28.74886297, 62.15511917, 22.85967583, 15.33130506, 55.28401839,\n",
       "       36.30752427, 31.7596461 , 29.78025381, 30.5682223 , 69.51370626,\n",
       "       65.91839359, 47.07579256, 24.43058363, 68.63851299, 24.50234844,\n",
       "       39.15915168, 45.10886103, 34.52016119, 50.24689839, 38.88563777,\n",
       "       27.83303743, 23.69818354, 31.76066327, 15.62883068, 36.32128384,\n",
       "       50.84545373, 58.67880679, 52.92085382, 50.78956077, 62.78016791,\n",
       "       10.82443382, 24.50524413, 63.2645165 , 60.25107796, 31.67017875,\n",
       "       26.78643478, 26.75937871, 17.91224845, 64.6484867 , 26.67506227,\n",
       "       36.88157424, 22.63436863, 44.83690913, 20.17879287, 46.78173676,\n",
       "       23.06757791, 15.12128262, 54.4596455 , 61.2939574 , 46.33860643,\n",
       "       19.52390696, 33.23052339, 66.7191376 , 66.57604262, 50.52529083,\n",
       "       32.42121795, 68.99168203, 54.24987408, 48.79517478, 63.73466425,\n",
       "       35.92033839, 66.57775888, 64.58916711, 42.51145275, 55.3839748 ,\n",
       "       14.42283465, 28.67093077, 21.34044657, 69.47761208, 46.67200167,\n",
       "       51.93066335, 63.72662523, 43.88662559, 28.47270319, 24.31318874,\n",
       "       54.47517011, 58.94612826, 61.67516067, 42.6586003 , 42.96585655,\n",
       "       36.8247025 , 55.66612588, 23.55959039, 17.44657149, 48.04116665,\n",
       "       44.36988367, 15.42122244, 23.89034892, 18.23835152, 60.14935078,\n",
       "       19.02695415, 54.11430487, 16.62330943, 48.78228895, 60.91317344,\n",
       "       18.8931234 , 14.17996548, 62.21146947, 57.34308925, 60.82730125,\n",
       "       51.32039307, 50.33397055, 13.60097748, 56.26485392, 55.71601299,\n",
       "       52.85375099, 12.1552484 , 38.59409824, 24.26891671, 28.21996611,\n",
       "       69.26930351, 41.17540419, 49.1884009 , 53.10308665, 18.86662737,\n",
       "       46.47172418, 28.95050201, 67.37230449, 65.35568605, 20.58916258,\n",
       "       17.48894063, 14.20089029, 53.83624137, 20.97940199, 61.52776574,\n",
       "       56.92449684, 61.02955174, 44.37569944, 33.61366354, 18.34221941,\n",
       "       52.82070063, 29.55623681, 51.92225701, 36.34009535, 21.32098295,\n",
       "       36.16064115, 55.85995524, 36.22249159, 62.17660536, 68.3989889 ,\n",
       "       28.05694822, 26.56408833, 28.64181172, 68.60267851, 24.03266634,\n",
       "       29.33978447, 53.86860354, 32.21925383, 46.26326741, 19.51128442,\n",
       "       63.10397086, 29.42483759, 35.11007929, 53.1532726 , 59.95059067,\n",
       "       31.34894864, 65.35624224, 16.58799873, 58.27881424, 25.95935883,\n",
       "       19.60343795, 11.30767244, 51.41768725, 43.8479637 , 30.83176938,\n",
       "       39.78380642, 30.78376015, 18.52809763, 58.55550593, 45.16177529,\n",
       "       20.20975915, 14.50287184, 16.21339761, 25.19068479, 35.00216704,\n",
       "       61.25194354, 52.58944905, 19.90336005, 68.37694028, 52.10405011,\n",
       "       21.81287794, 35.26590112, 21.61767131, 44.79726115, 21.06785864,\n",
       "       42.45692026, 24.26760412, 28.68694766, 41.15430571, 63.14394336,\n",
       "       49.42812279, 35.53975745, 63.46950911, 30.83228634, 60.80472588,\n",
       "       35.03330717, 29.24741984, 55.97590502, 40.31450033, 10.67528816,\n",
       "       44.0497598 , 14.18223844, 67.88856599, 19.02560546, 50.96940205,\n",
       "       40.62529487, 56.35594761, 34.36577834, 67.87069746, 69.24643245,\n",
       "       49.92926496, 37.21887766, 63.07547   , 67.12883927, 44.47992181,\n",
       "       50.00861565, 57.01526409, 16.58326685, 52.11714539, 38.97858233,\n",
       "       50.07098387, 31.0955005 , 60.56218338, 10.90544218, 20.31727895,\n",
       "       67.11743049, 57.11624605, 34.55655865, 36.35992043, 64.16252012,\n",
       "       69.1100574 , 33.49353663, 42.56472221, 57.05282526, 36.78921634])"
      ]
     },
     "execution_count": 6,
     "metadata": {},
     "output_type": "execute_result"
    }
   ],
   "source": [
    "B = uniform.rvs(loc = 10, scale = 60, size=1000)\n",
    "B"
   ]
  },
  {
   "cell_type": "code",
   "execution_count": 8,
   "metadata": {},
   "outputs": [
    {
     "data": {
      "text/plain": [
       "(0.0, 100.0)"
      ]
     },
     "execution_count": 8,
     "metadata": {},
     "output_type": "execute_result"
    },
    {
     "data": {
      "image/png": "[encoded data removed]",
      "text/plain": [
       "<Figure size 800x500 with 2 Axes>"
      ]
     },
     "metadata": {},
     "output_type": "display_data"
    }
   ],
   "source": [
    "fig, ax = plt.subplots(1, 2, figsize=(8, 5))\n",
    "sns.histplot(A, element='step', ax=ax[0])\n",
    "sns.histplot(B, element='step', ax=ax[1]);\n",
    "ax[0].set_ylim(0, 100)\n",
    "ax[1].set_ylim(0, 100)"
   ]
  },
  {
   "cell_type": "markdown",
   "metadata": {},
   "source": [
    "How are the two distributions different?"
   ]
  },
  {
   "cell_type": "code",
   "execution_count": null,
   "metadata": {},
   "outputs": [],
   "source": [
    "# your answer below"
   ]
  },
  {
   "cell_type": "markdown",
   "metadata": {},
   "source": [
    "## Normal Distribution\n",
    "\n",
    "1. In the same way in the Uniform Distribution challenge, write a function that generates normally distributed random numbers.\n",
    "1. Generate 1,000 normally distributed numbers with the average of 10 and standard deviation of 1\n",
    "1. Generate 1,000 normally distributed numbers with the average of 10 and standard deviation of 50\n",
    "2. Plot the distributions of the data generated.\n",
    "\n",
    "Expected output:\n",
    "\n",
    "![normal distribution](nd.png)"
   ]
  },
  {
   "cell_type": "code",
   "execution_count": 13,
   "metadata": {},
   "outputs": [],
   "source": [
    "# your code here\n",
    "def random_norm_vals(XXX, YYY, ZZZ):\n",
    "    '''\n",
    "    XXX = count\n",
    "    YYY = mean\n",
    "    ZZZ = std\n",
    "    '''\n",
    "    return norm.rvs(size=XXX, loc=YYY, scale=ZZZ)"
   ]
  },
  {
   "cell_type": "code",
   "execution_count": 14,
   "metadata": {},
   "outputs": [],
   "source": [
    "listA = random_norm_vals(1000, 10, 1)\n",
    "listB = random_norm_vals(1000, 10, 50)"
   ]
  },
  {
   "cell_type": "code",
   "execution_count": 15,
   "metadata": {},
   "outputs": [
    {
     "data": {
      "text/plain": [
       "(0.0, 140.0)"
      ]
     },
     "execution_count": 15,
     "metadata": {},
     "output_type": "execute_result"
    },
    {
     "data": {
      "image/png": "[encoded data removed]",
      "text/plain": [
       "<Figure size 800x500 with 2 Axes>"
      ]
     },
     "metadata": {},
     "output_type": "display_data"
    }
   ],
   "source": [
    "fig, ax = plt.subplots(1, 2, figsize=(8, 5))\n",
    "sns.histplot(listA, element='step', ax=ax[0])\n",
    "sns.histplot(listB, element='step', ax=ax[1]);\n",
    "ax[0].set_ylim(0, 140)\n",
    "ax[1].set_ylim(0, 140)"
   ]
  },
  {
   "cell_type": "markdown",
   "metadata": {},
   "source": [
    "How are the two distributions different?"
   ]
  },
  {
   "cell_type": "code",
   "execution_count": null,
   "metadata": {},
   "outputs": [],
   "source": [
    "# your answer below\n",
    "listA will have samples clustered closer to the mean (less spread), while listB will have samples spread out over a wider range due to the larger standard deviation."
   ]
  },
  {
   "cell_type": "markdown",
   "metadata": {},
   "source": [
    "## Normal Distribution of Real Data\n",
    "\n",
    "In this challenge we are going to take a look the real data. We will use vehicles.csv file for this exercise"
   ]
  },
  {
   "cell_type": "markdown",
   "metadata": {},
   "source": [
    "First import vehicles.csv.\n",
    "Then plot the histograms for the following variables:\n",
    "\n",
    "1. Fuel Barrels/Year"
   ]
  },
  {
   "cell_type": "code",
   "execution_count": 17,
   "metadata": {},
   "outputs": [
    {
     "data": {
      "text/html": [
       "<div>\n",
       "<style scoped>\n",
       "    .dataframe tbody tr th:only-of-type {\n",
       "        vertical-align: middle;\n",
       "    }\n",
       "\n",
       "    .dataframe tbody tr th {\n",
       "        vertical-align: top;\n",
       "    }\n",
       "\n",
       "    .dataframe thead th {\n",
       "        text-align: right;\n",
       "    }\n",
       "</style>\n",
       "<table border=\"1\" class=\"dataframe\">\n",
       "  <thead>\n",
       "    <tr style=\"text-align: right;\">\n",
       "      <th></th>\n",
       "      <th>Make</th>\n",
       "      <th>Model</th>\n",
       "      <th>Year</th>\n",
       "      <th>Engine Displacement</th>\n",
       "      <th>Cylinders</th>\n",
       "      <th>Transmission</th>\n",
       "      <th>Drivetrain</th>\n",
       "      <th>Vehicle Class</th>\n",
       "      <th>Fuel Type</th>\n",
       "      <th>Fuel Barrels/Year</th>\n",
       "      <th>City MPG</th>\n",
       "      <th>Highway MPG</th>\n",
       "      <th>Combined MPG</th>\n",
       "      <th>CO2 Emission Grams/Mile</th>\n",
       "      <th>Fuel Cost/Year</th>\n",
       "    </tr>\n",
       "  </thead>\n",
       "  <tbody>\n",
       "    <tr>\n",
       "      <th>0</th>\n",
       "      <td>AM General</td>\n",
       "      <td>DJ Po Vehicle 2WD</td>\n",
       "      <td>1984</td>\n",
       "      <td>2.5</td>\n",
       "      <td>4.0</td>\n",
       "      <td>Automatic 3-spd</td>\n",
       "      <td>2-Wheel Drive</td>\n",
       "      <td>Special Purpose Vehicle 2WD</td>\n",
       "      <td>Regular</td>\n",
       "      <td>19.388824</td>\n",
       "      <td>18</td>\n",
       "      <td>17</td>\n",
       "      <td>17</td>\n",
       "      <td>522.764706</td>\n",
       "      <td>1950</td>\n",
       "    </tr>\n",
       "    <tr>\n",
       "      <th>1</th>\n",
       "      <td>AM General</td>\n",
       "      <td>FJ8c Post Office</td>\n",
       "      <td>1984</td>\n",
       "      <td>4.2</td>\n",
       "      <td>6.0</td>\n",
       "      <td>Automatic 3-spd</td>\n",
       "      <td>2-Wheel Drive</td>\n",
       "      <td>Special Purpose Vehicle 2WD</td>\n",
       "      <td>Regular</td>\n",
       "      <td>25.354615</td>\n",
       "      <td>13</td>\n",
       "      <td>13</td>\n",
       "      <td>13</td>\n",
       "      <td>683.615385</td>\n",
       "      <td>2550</td>\n",
       "    </tr>\n",
       "  </tbody>\n",
       "</table>\n",
       "</div>"
      ],
      "text/plain": [
       "         Make              Model  Year  Engine Displacement  Cylinders  \\\n",
       "0  AM General  DJ Po Vehicle 2WD  1984                  2.5        4.0   \n",
       "1  AM General   FJ8c Post Office  1984                  4.2        6.0   \n",
       "\n",
       "      Transmission     Drivetrain                Vehicle Class Fuel Type  \\\n",
       "0  Automatic 3-spd  2-Wheel Drive  Special Purpose Vehicle 2WD   Regular   \n",
       "1  Automatic 3-spd  2-Wheel Drive  Special Purpose Vehicle 2WD   Regular   \n",
       "\n",
       "   Fuel Barrels/Year  City MPG  Highway MPG  Combined MPG  \\\n",
       "0          19.388824        18           17            17   \n",
       "1          25.354615        13           13            13   \n",
       "\n",
       "   CO2 Emission Grams/Mile  Fuel Cost/Year  \n",
       "0               522.764706            1950  \n",
       "1               683.615385            2550  "
      ]
     },
     "execution_count": 17,
     "metadata": {},
     "output_type": "execute_result"
    }
   ],
   "source": [
    "# your code here\n",
    "vehicules = pd.read_csv('vehicles.csv')\n",
    "vehicules.head(2)"
   ]
  },
  {
   "cell_type": "code",
   "execution_count": 20,
   "metadata": {},
   "outputs": [
    {
     "data": {
      "text/plain": [
       "(0.0, 4000.0)"
      ]
     },
     "execution_count": 20,
     "metadata": {},
     "output_type": "execute_result"
    },
    {
     "data": {
      "image/png": "[encoded data removed]",
      "text/plain": [
       "<Figure size 1200x500 with 3 Axes>"
      ]
     },
     "metadata": {},
     "output_type": "display_data"
    }
   ],
   "source": [
    "fig, ax = plt.subplots(1, 3, figsize=(12, 5))\n",
    "sns.histplot(vehicules[\"Fuel Barrels/Year\"], element='step', ax=ax[0])\n",
    "sns.histplot(vehicules[\"CO2 Emission Grams/Mile\"], element='step', ax=ax[1])\n",
    "sns.histplot(vehicules[\"Combined MPG\"], element='step', ax=ax[2]);\n",
    "ax[0].set_ylim(0, 4000)\n",
    "ax[1].set_ylim(0, 4000)\n",
    "ax[2].set_ylim(0, 4000)"
   ]
  },
  {
   "cell_type": "markdown",
   "metadata": {},
   "source": [
    "2. CO2 Emission Grams/Mile "
   ]
  },
  {
   "cell_type": "code",
   "execution_count": null,
   "metadata": {},
   "outputs": [],
   "source": [
    "# your code here\n",
    "See above "
   ]
  },
  {
   "cell_type": "markdown",
   "metadata": {},
   "source": [
    "3. Combined MPG"
   ]
  },
  {
   "cell_type": "code",
   "execution_count": null,
   "metadata": {},
   "outputs": [],
   "source": [
    "# your code here\n",
    "see above "
   ]
  },
  {
   "cell_type": "markdown",
   "metadata": {},
   "source": [
    "Which one(s) of the variables are nearly normally distributed? How do you know?"
   ]
  },
  {
   "cell_type": "code",
   "execution_count": null,
   "metadata": {},
   "outputs": [],
   "source": [
    "# your answer here\n",
    "\n",
    "No one, the most simetrical one is the Fuel Barrels Year"
   ]
  },
  {
   "cell_type": "markdown",
   "metadata": {},
   "source": [
    "## Exponential Distribution"
   ]
  },
  {
   "cell_type": "markdown",
   "metadata": {},
   "source": [
    "1. Using `numpy.random.exponential`, create a function that returns a list of numbers exponentially distributed with the mean of 10. \n",
    "\n",
    "1. Use the function to generate two number sequences with the size of 10 and 100.\n",
    "\n",
    "1. Plot the distributions as histograms with the nubmer of bins as 100.\n",
    "\n",
    "Your output should look like below:\n",
    "\n",
    "![exponential distribution](ed.png)"
   ]
  },
  {
   "cell_type": "code",
   "execution_count": 24,
   "metadata": {},
   "outputs": [
    {
     "data": {
      "text/plain": [
       "array([ 0.23264926, 21.02576099,  1.78208868,  0.77838941, 10.2607407 ,\n",
       "       27.68101679, 17.8887851 ,  8.80289416, 11.01715465,  0.53255611])"
      ]
     },
     "execution_count": 24,
     "metadata": {},
     "output_type": "execute_result"
    }
   ],
   "source": [
    "# your code here\n",
    "listA = np.random.exponential(10, 10)\n",
    "listA"
   ]
  },
  {
   "cell_type": "code",
   "execution_count": 25,
   "metadata": {},
   "outputs": [
    {
     "data": {
      "text/plain": [
       "array([ 7.01912499,  7.13175805, 20.33742626, 10.20784323,  9.5280924 ,\n",
       "       14.05085682,  0.77866773,  1.8263915 ,  0.44435259, 13.36863021,\n",
       "        2.88695568,  0.09254588,  7.50390016,  2.67186155,  1.51853988,\n",
       "        5.79785585,  4.90289484,  4.37296911,  5.25331796, 16.19961667,\n",
       "       18.00196716, 26.4539039 ,  1.49984379,  9.49062472, 16.59312502,\n",
       "        4.34466653, 30.23967937,  0.41526001,  8.09433868, 27.58140413,\n",
       "        2.95602179,  7.22499405, 14.4223348 , 32.96503236,  3.17754439,\n",
       "        6.53293901,  9.40404561, 17.22509747, 15.90591173,  7.85338461,\n",
       "       23.34559082,  4.72849354,  9.77304613,  1.42171007, 17.80555694,\n",
       "       22.06773341, 19.49163476,  9.6125783 ,  2.84605636,  5.10491028,\n",
       "       29.8122619 ,  6.08713565, 28.74962283,  2.69419405,  4.06996459,\n",
       "        1.27977025, 27.01883357,  1.72004714,  6.8445876 ,  0.39081597,\n",
       "        8.20603028,  8.47936407,  4.33068877, 20.67171256, 22.87319258,\n",
       "        6.64248834, 15.58686085, 14.87868429, 15.03641231, 25.0399431 ,\n",
       "        6.05725271,  2.08680031,  3.96840574,  4.86457726,  0.2517915 ,\n",
       "       27.51705283, 22.23527732,  2.81593793, 43.98762396,  8.4751973 ,\n",
       "       15.32183121,  1.82660126,  9.38541554, 13.04728092, 22.75514159,\n",
       "       11.0905512 ,  8.69753608,  8.67577033,  3.27807723, 25.41967977,\n",
       "       17.05554382, 11.38528787, 20.71798029, 26.53915499, 15.34125237,\n",
       "        2.05219139,  5.8089367 , 10.87454984,  7.35978947,  8.8791915 ])"
      ]
     },
     "execution_count": 25,
     "metadata": {},
     "output_type": "execute_result"
    }
   ],
   "source": [
    "listB = np.random.exponential(10, 100)\n",
    "listB"
   ]
  },
  {
   "cell_type": "code",
   "execution_count": 28,
   "metadata": {},
   "outputs": [
    {
     "data": {
      "text/plain": [
       "<Axes: ylabel='Count'>"
      ]
     },
     "execution_count": 28,
     "metadata": {},
     "output_type": "execute_result"
    },
    {
     "data": {
      "image/png": "[encoded data removed]",
      "text/plain": [
       "<Figure size 800x500 with 2 Axes>"
      ]
     },
     "metadata": {},
     "output_type": "display_data"
    }
   ],
   "source": [
    "fig, ax = plt.subplots(1, 2, figsize=(8, 5))\n",
    "sns.histplot(listA, element='step', ax=ax[0], bins = 100)\n",
    "sns.histplot(listB, element='step', ax=ax[1], bins = 100)"
   ]
  },
  {
   "cell_type": "markdown",
   "metadata": {},
   "source": [
    "How are the two distributions different?"
   ]
  },
  {
   "cell_type": "code",
   "execution_count": null,
   "metadata": {},
   "outputs": [],
   "source": [
    "# your answer here"
   ]
  },
  {
   "cell_type": "markdown",
   "metadata": {},
   "source": [
    "## Exponential Distribution of Real Data\n",
    "\n",
    "Suppose that the amount of time one spends in a bank is exponentially distributed with mean as 10 minutes (i.e. λ = 1/10). What is the probability that a customer will spend less than fifteen minutes in the bank? \n",
    "\n",
    "Write a code in python to solve this problem"
   ]
  },
  {
   "cell_type": "code",
   "execution_count": 31,
   "metadata": {},
   "outputs": [
    {
     "data": {
      "text/plain": [
       "0.7768698398515701"
      ]
     },
     "execution_count": 31,
     "metadata": {},
     "output_type": "execute_result"
    }
   ],
   "source": [
    "# your answer here\n",
    "# Hint: This is same as saying P(x<15)\n",
    "import math\n",
    "probability= 1 - math.e**(-(1/10) * 15)\n",
    "probability"
   ]
  },
  {
   "cell_type": "markdown",
   "metadata": {},
   "source": [
    "What is the probability that the customer will spend more than 15 minutes"
   ]
  },
  {
   "cell_type": "code",
   "execution_count": 33,
   "metadata": {},
   "outputs": [
    {
     "data": {
      "text/plain": [
       "0.2231301601484299"
      ]
     },
     "execution_count": 33,
     "metadata": {},
     "output_type": "execute_result"
    }
   ],
   "source": [
    "# your answer here\n",
    "1 - probability"
   ]
  }
 ],
 "metadata": {
  "kernelspec": {
   "display_name": "Python 3",
   "language": "python",
   "name": "python3"
  },
  "language_info": {
   "codemirror_mode": {
    "name": "ipython",
    "version": 3
   },
   "file_extension": ".py",
   "mimetype": "text/x-python",
   "name": "python",
   "nbconvert_exporter": "python",
   "pygments_lexer": "ipython3",
   "version": "3.11.5"
  },
  "toc": {
   "base_numbering": 1,
   "nav_menu": {},
   "number_sections": true,
   "sideBar": true,
   "skip_h1_title": false,
   "title_cell": "Table of Contents",
   "title_sidebar": "Contents",
   "toc_cell": true,
   "toc_position": {},
   "toc_section_display": true,
   "toc_window_display": false
  },
  "varInspector": {
   "cols": {
    "lenName": 16,
    "lenType": 16,
    "lenVar": 40
   },
   "kernels_config": {
    "python": {
     "delete_cmd_postfix": "",
     "delete_cmd_prefix": "del ",
     "library": "var_list.py",
     "varRefreshCmd": "print(var_dic_list())"
    },
    "r": {
     "delete_cmd_postfix": ") ",
     "delete_cmd_prefix": "rm(",
     "library": "var_list.r",
     "varRefreshCmd": "cat(var_dic_list()) "
    }
   },
   "types_to_exclude": [
    "module",
    "function",
    "builtin_function_or_method",
    "instance",
    "_Feature"
   ],
   "window_display": false
  }
 },
 "nbformat": 4,
 "nbformat_minor": 2
}
